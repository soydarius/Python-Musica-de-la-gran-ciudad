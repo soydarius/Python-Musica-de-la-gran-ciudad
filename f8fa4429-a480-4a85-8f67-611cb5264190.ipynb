{
 "cells": [
  {
   "cell_type": "markdown",
   "metadata": {},
   "source": [
    "# ¡Hola, Darius!  \n",
    "\n",
    "Mi nombre es Carlos Ortiz, soy code reviewer de Practicum y voy a revisar el proyecto que acabas de desarrollar.\n",
    "\n",
    "Cuando vea un error la primera vez, lo señalaré. Deberás encontrarlo y arreglarlo. La intención es que te prepares para un espacio real de trabajo. En un trabajo, el líder de tu equipo hará lo mismo. Si no puedes solucionar el error, te daré más información en la próxima ocasión. \n",
    "\n",
    "Encontrarás mis comentarios más abajo - **por favor, no los muevas, no los modifiques ni los borres**.\n",
    "\n",
    "¿Cómo lo voy a hacer? Voy a leer detenidamente cada una de las implementaciones que has llevado a cabo para cumplir con lo solicitado. Verás los comentarios de esta forma:\n",
    "\n",
    "<div class=\"alert alert-block alert-success\">\n",
    "<b>Comentario del revisor</b> <a class=\"tocSkip\"></a>\n",
    "    \n",
    "Si todo está perfecto.\n",
    "</div>\n",
    "\n",
    "\n",
    "<div class=\"alert alert-block alert-warning\">\n",
    "<b>Comentario del revisor</b> <a class=\"tocSkip\"></a>\n",
    "    \n",
    "Si tu código está bien pero se puede mejorar o hay algún detalle que le hace falta.\n",
    "</div>\n",
    "\n",
    "\n",
    "<div class=\"alert alert-block alert-danger\">\n",
    "    \n",
    "<b>Comentario del revisor</b> <a class=\"tocSkip\"></a>\n",
    "    \n",
    "    \n",
    "Si de pronto hace falta algo o existe algún problema con tu código o conclusiones.\n",
    "</div>\n",
    "\n",
    "\n",
    "Puedes responderme de esta forma: \n",
    "\n",
    "<div class=\"alert alert-block alert-info\">\n",
    "<b>Respuesta del estudiante</b> <a class=\"tocSkip\"></a>\n",
    "</div>\n",
    "\n",
    "¡Empecemos!"
   ]
  },
  {
   "cell_type": "markdown",
   "metadata": {
    "id": "E0vqbgi9ay0H"
   },
   "source": [
    "# Yandex.Music"
   ]
  },
  {
   "cell_type": "markdown",
   "metadata": {
    "id": "fhq_eyov_Zcs"
   },
   "source": [
    "# Contents <a id='back'></a>\n",
    "\n",
    "* [Introducción](#intro)\n",
    "* [Etapa 1. Descripción de los datos](#data_review)\n",
    "    * [Conclusions](#data_review_conclusions)\n",
    "* [Etapa 2. Data preprocessing](#data_preprocessing)\n",
    "    * [2.1 Estilo del encabezado](#header_style)\n",
    "    * [2.2 Valores ausentes](#missing_values)\n",
    "    * [2.3 Duplicados](#duplicates)\n",
    "    * [2.4 Conclusiones](#data_preprocessing_conclusions)\n",
    "* [Etapa 3. Prueba de hipótesis](#hypotheses)\n",
    "    * [3.1 Hipótesis 1: comparar el comportamiento del usuario en las dos ciudades](#activity)\n",
    "    * [3.2 Hipótesis 2: música al principio y al final de la semana](#week)\n",
    "    * [3.3 Hipótesis 3: preferencias de género en Springfield y Shelbyville](#genre)\n",
    "* [Conclusiones](#end)"
   ]
  },
  {
   "cell_type": "markdown",
   "metadata": {
    "id": "VUC88oWjTJw2"
   },
   "source": [
    "## Introducción <a id='intro'></a>\n",
    "Siempre que investiguemos, necesitamos formular hipótesis que después podamos probar. A veces aceptamos estas hipótesis; otras, las rechazamos. Para tomar las decisiones correctas, una empresa debe ser capaz de entender si está haciendo las suposiciones correctas.\n",
    "\n",
    "En este proyecto, compararás las preferencias musicales de las ciudades de Springfield y Shelbyville. Estudiarás datos reales de Yandex.Music para probar las hipótesis de abajo y comparar el comportamiento del usuario de esas dos ciudades.\n",
    "\n",
    "### Objetivo: \n",
    "Prueba tres hipótesis: \n",
    "1. La actividad de los usuarios difiere según el día de la semana y dependiendo de la ciudad. \n",
    "2. Los lunes por la mañana, los habitantes de Springfield y Shelbyville escuchan diferentes géneros. Lo mismo ocurre con los viernes por la noche. \n",
    "3. Los oyentes de Springfield y Shelbyville tienen preferencias distintas. En Springfield prefieren el pop mientras que en Shelbyville hay más aficionados al rap.\n",
    "\n",
    "### Etapas \n",
    "Los datos del comportamiento del usuario se almacenan en el archivo `/datasets/music_project_en.csv`. No hay ninguna información sobre la calidad de los datos así que necesitarás examinarlos antes de probar las hipótesis. \n",
    "\n",
    "Primero, evaluarás la calidad de los datos y verás si los problemas son significativos. Entonces, durante el preprocesamiento de datos, tomarás en cuenta los problemas más críticos.\n",
    " \n",
    "Tu proyecto consistirá en tres etapas:\n",
    " 1. Descripción de los datos\n",
    " 2. Preprocesamiento de datos\n",
    " 3. Prueba de hipótesis\n",
    " \n",
    "[Volver a Contenidos](#back)"
   ]
  },
  {
   "cell_type": "markdown",
   "metadata": {},
   "source": [
    "<div class=\"alert alert-block alert-success\">\n",
    "    \n",
    "<b>Comentario del revisor</b> <a class=\"tocSkip\"></a>\n",
    "    \n",
    "Bien. Es importante incluir en el principio de cada proyecto una tabla de contenido y una introducción que le faciliten al lector entender de qué va el proyecto y cómo está organizado. Además de poder navegar más facilmente.\n",
    "</div>"
   ]
  },
  {
   "cell_type": "markdown",
   "metadata": {
    "id": "Ml1hmfXC_Zcs"
   },
   "source": [
    "## Etapa 1. Descripción de los datos <a id='data_review'></a>\n",
    "\n",
    "Abre los datos en Yandex.Music y examínalos."
   ]
  },
  {
   "cell_type": "markdown",
   "metadata": {
    "id": "57eAOGIz_Zcs"
   },
   "source": [
    "Necesitarás `pandas` así que impórtalo."
   ]
  },
  {
   "cell_type": "code",
   "execution_count": 1,
   "metadata": {
    "id": "AXN7PHPN_Zcs"
   },
   "outputs": [],
   "source": [
    "# importando pandas\n",
    "import pandas as pd"
   ]
  },
  {
   "cell_type": "markdown",
   "metadata": {
    "id": "SG23P8tt_Zcs"
   },
   "source": [
    "Lee el archivo `music_project_en.csv` de la carpeta `/datasets/` y guárdalo en la variable `df`:"
   ]
  },
  {
   "cell_type": "code",
   "execution_count": 2,
   "metadata": {
    "id": "fFVu7vqh_Zct"
   },
   "outputs": [],
   "source": [
    "# leyendo el archivo y almacenándolo en dfdf.describe()\n",
    "df = pd.read_csv('/datasets/music_project_en.csv')"
   ]
  },
  {
   "cell_type": "markdown",
   "metadata": {
    "id": "rDoOMd3uTqnZ"
   },
   "source": [
    "Imprime las 10 primeras filas de la tabla:"
   ]
  },
  {
   "cell_type": "code",
   "execution_count": 3,
   "metadata": {
    "id": "oWTVX3gW_Zct"
   },
   "outputs": [
    {
     "name": "stdout",
     "output_type": "stream",
     "text": [
      "     userID                        Track            artist   genre  \\\n",
      "0  FFB692EC            Kamigata To Boots  The Mass Missile    rock   \n",
      "1  55204538  Delayed Because of Accident  Andreas Rönnberg    rock   \n",
      "2    20EC38            Funiculì funiculà       Mario Lanza     pop   \n",
      "3  A3DD03C9        Dragons in the Sunset        Fire + Ice    folk   \n",
      "4  E2DC1FAE                  Soul People        Space Echo   dance   \n",
      "5  842029A1                       Chains          Obladaet  rusrap   \n",
      "6  4CB90AA5                         True      Roman Messer   dance   \n",
      "7  F03E1C1F             Feeling This Way   Polina Griffith   dance   \n",
      "8  8FA1D3BE                     L’estate       Julia Dalia  ruspop   \n",
      "9  E772D5C0                    Pessimist               NaN   dance   \n",
      "\n",
      "        City        time        Day  \n",
      "0  Shelbyville  20:28:33  Wednesday  \n",
      "1  Springfield  14:07:09     Friday  \n",
      "2  Shelbyville  20:58:07  Wednesday  \n",
      "3  Shelbyville  08:37:09     Monday  \n",
      "4  Springfield  08:34:34     Monday  \n",
      "5  Shelbyville  13:09:41     Friday  \n",
      "6  Springfield  13:00:07  Wednesday  \n",
      "7  Springfield  20:47:49  Wednesday  \n",
      "8  Springfield  09:17:40     Friday  \n",
      "9  Shelbyville  21:20:49  Wednesday  \n"
     ]
    }
   ],
   "source": [
    "# obteniendo las 10 primeras filas de la tabla df\n",
    "print(df.head(10))"
   ]
  },
  {
   "cell_type": "markdown",
   "metadata": {
    "id": "EO73Kwic_Zct"
   },
   "source": [
    "Obtener la información general sobre la tabla con un comando:"
   ]
  },
  {
   "cell_type": "code",
   "execution_count": 4,
   "metadata": {
    "id": "DSf2kIb-_Zct"
   },
   "outputs": [
    {
     "name": "stdout",
     "output_type": "stream",
     "text": [
      "<class 'pandas.core.frame.DataFrame'>\n",
      "RangeIndex: 65079 entries, 0 to 65078\n",
      "Data columns (total 7 columns):\n",
      " #   Column    Non-Null Count  Dtype \n",
      "---  ------    --------------  ----- \n",
      " 0     userID  65079 non-null  object\n",
      " 1   Track     63736 non-null  object\n",
      " 2   artist    57512 non-null  object\n",
      " 3   genre     63881 non-null  object\n",
      " 4     City    65079 non-null  object\n",
      " 5   time      65079 non-null  object\n",
      " 6   Day       65079 non-null  object\n",
      "dtypes: object(7)\n",
      "memory usage: 3.5+ MB\n"
     ]
    }
   ],
   "source": [
    "# obteniendo información general sobre los datos en df\n",
    "df.info()"
   ]
  },
  {
   "cell_type": "markdown",
   "metadata": {
    "id": "TaQ2Iwbr_Zct"
   },
   "source": [
    "La tabla contiene siete columnas. Todas almacenan el mismo tipo de datos: objeto.\n",
    "\n",
    "De acuerdo con la documentación:\n",
    "- `'userID'` — identificador del usuario\n",
    "- `'Track'` — título de la pista\n",
    "- `'artist'` — nombre del artista\n",
    "- `'genre'` — género\n",
    "- `'City'` — ciudad del usuario\n",
    "- `'time'` — el periodo de tiempo exacto en que se reprodujo la pista\n",
    "- `'Day'` — día de la semana\n",
    "\n",
    "Podemos ver tres problemas con el estilo en los nombres de las columnas:\n",
    "1. Algunos nombres están en mayúsculas, otros en minúsculas.\n",
    "2. Hay algunos espacios en algunos nombres.\n",
    "3. El número máximo de valores en nuestra tabla es de 65079, el cual no coincide con los 63736 de Track o los 57512. Parece que hay muchas canciones que no contienen un nombre de artista y otras que no contienen un track name.\n",
    "\n",
    "El número de valores de las columnas es diferente. Esto significa que los datos contienen valores ausentes.\n"
   ]
  },
  {
   "cell_type": "markdown",
   "metadata": {
    "id": "MCB6-dXG_Zct"
   },
   "source": [
    "### Conclusiones <a id='data_review_conclusions'></a> \n",
    "\n",
    "Cada fila de la tabla almacena datos de la pista que fue reproducida. Algunas columnas describen la pista en sí: su título, el artista y el género. El resto transmite la información del usuario: la ciudad de la que viene, el tiempo que ha reproducido la pista. \n",
    "\n",
    "Está claro que los datos son suficientes para probar la hipótesis. Sin embargo, hay valores ausentes.\n",
    "\n",
    "Para continuar, necesitamos preprocesar los datos."
   ]
  },
  {
   "cell_type": "markdown",
   "metadata": {},
   "source": [
    "<div class=\"alert alert-block alert-success\">\n",
    "    \n",
    "<b>Comentario del revisor</b> <a class=\"tocSkip\"></a>\n",
    "    \n",
    "¡Buen inicio, Darius! Recuerda que en jupyter algunos métodos de pandas imprimen los resultados por defecto, como el método `head`, por ejemplo. Para describir también puedes emplear el método `describe`.\n",
    "</div>"
   ]
  },
  {
   "cell_type": "markdown",
   "metadata": {
    "id": "3eL__vcwViOi"
   },
   "source": [
    "[Volver a Contenidos](#back)"
   ]
  },
  {
   "cell_type": "markdown",
   "metadata": {
    "id": "SjYF6Ub9_Zct"
   },
   "source": [
    "## Etapa 2. Preprocesamiento de datos <a id='data_preprocessing'></a>\n",
    "Corrige el formato en los encabezados de las columnas y ocúpate de los valores ausentes. Después, comprueba si hay duplicados en los datos."
   ]
  },
  {
   "cell_type": "markdown",
   "metadata": {
    "id": "dIaKXr29_Zct"
   },
   "source": [
    "### Estilo del encabezado <a id='header_style'></a>\n",
    "Imprime el encabezado de la columna:"
   ]
  },
  {
   "cell_type": "code",
   "execution_count": 5,
   "metadata": {
    "id": "oKOTdF_Q_Zct"
   },
   "outputs": [
    {
     "data": {
      "text/plain": [
       "['  userID', 'Track', 'artist', 'genre', '  City  ', 'time', 'Day']"
      ]
     },
     "execution_count": 5,
     "metadata": {},
     "output_type": "execute_result"
    }
   ],
   "source": [
    "# la lista de los nombres de las columnas en la tabla df\n",
    "list(df.columns)"
   ]
  },
  {
   "cell_type": "markdown",
   "metadata": {
    "id": "zj5534cv_Zct"
   },
   "source": [
    "Cambia los nombres de las columnas de acuerdo con las reglas del buen estilo:\n",
    "* Si el nombre tiene varias palabras, utiliza snake_case\n",
    "* Todos los caracteres deben ser minúsculas\n",
    "* Elimina los espacios"
   ]
  },
  {
   "cell_type": "code",
   "execution_count": 6,
   "metadata": {
    "id": "ISlFqs5y_Zct"
   },
   "outputs": [],
   "source": [
    "# renombra las columnas\n",
    "df = df.rename(\n",
    "    columns={\n",
    "        '  userID':'user_id',\n",
    "        'Track':'track',\n",
    "        '  City  ':'city',\n",
    "        'Day':'day'\n",
    "    }\n",
    ")"
   ]
  },
  {
   "cell_type": "markdown",
   "metadata": {
    "id": "1dqbh00J_Zct"
   },
   "source": [
    "Comprueba el resultado. Imprime los nombres de las columnas una vez más:"
   ]
  },
  {
   "cell_type": "code",
   "execution_count": 7,
   "metadata": {
    "id": "d4NOAmTW_Zct"
   },
   "outputs": [
    {
     "name": "stdout",
     "output_type": "stream",
     "text": [
      "Index(['user_id', 'track', 'artist', 'genre', 'city', 'time', 'day'], dtype='object')\n"
     ]
    }
   ],
   "source": [
    "# comprobando el resultado: la lista de los nombres de las columnas\n",
    "print(df.columns)"
   ]
  },
  {
   "cell_type": "markdown",
   "metadata": {},
   "source": [
    "<div class=\"alert alert-block alert-info\">\n",
    "    \n",
    "<b>Respuesta del estudiante</b> <a class=\"tocSkip\"></a>\n",
    "    \n",
    "Se actualizó el nombre de la columna UserID a user_id. Como se recomienda en la observación hecha.\n",
    "</div>"
   ]
  },
  {
   "cell_type": "markdown",
   "metadata": {},
   "source": [
    "<div class=\"alert alert-block alert-danger\">\n",
    "    \n",
    "<b>Comentario del revisor</b> <a class=\"tocSkip\"></a>\n",
    "\n",
    "Recuerda que si el nombre de la columna tiene más de dos palabras, estas deben ir separadas por un guión bajo. En este caso sería `user_id`.\n",
    "</div>"
   ]
  },
  {
   "cell_type": "markdown",
   "metadata": {},
   "source": [
    "<div class=\"alert alert-block alert-success\">\n",
    "    \n",
    "<b>Comentario del revisor #2</b> <a class=\"tocSkip\"></a>\n",
    "\n",
    "Corregido.\n",
    "</div>"
   ]
  },
  {
   "cell_type": "markdown",
   "metadata": {
    "id": "xYJk6ksJVpOl"
   },
   "source": [
    "[Volver a Contenidos](#back)"
   ]
  },
  {
   "cell_type": "markdown",
   "metadata": {
    "id": "5ISfbcfY_Zct"
   },
   "source": [
    "### Valores ausentes <a id='missing_values'></a>\n",
    "Primero encuentra el número de valores ausentes en la tabla. Para ello, utiliza dos métodos pandas:"
   ]
  },
  {
   "cell_type": "code",
   "execution_count": 8,
   "metadata": {
    "id": "RskX29qr_Zct"
   },
   "outputs": [
    {
     "name": "stdout",
     "output_type": "stream",
     "text": [
      "user_id       0\n",
      "track      1343\n",
      "artist     7567\n",
      "genre      1198\n",
      "city          0\n",
      "time          0\n",
      "day           0\n",
      "dtype: int64\n",
      "\n",
      "user_id       0\n",
      "track      1343\n",
      "artist     7567\n",
      "genre      1198\n",
      "city          0\n",
      "time          0\n",
      "day           0\n",
      "dtype: int64\n"
     ]
    }
   ],
   "source": [
    "# calculando valores ausentes\n",
    "print(df.isna().sum())\n",
    "print()\n",
    "print(df.isnull().sum())"
   ]
  },
  {
   "cell_type": "markdown",
   "metadata": {
    "id": "qubhgnlO_Zct"
   },
   "source": [
    "No todos los valores ausentes afectan a la investigación. Por ejemplo, los valores ausentes en la pista y artista no son cruciales. Simplemente puedes reemplazarlos por marcadores claros.\n",
    "\n",
    "Pero los valores ausentes en 'genre' pueden afectar la comparación entre las preferencias musicales de Springfield y Shelbyville. En la vida real, sería útil saber las razones por las cuales hay datos ausentes e intentar recuperarlos. Pero no tenemos esa oportunidad en este proyecto. Así que tendrás que:\n",
    "* Rellenar esos valores ausentes con marcadores\n",
    "* Evaluar cuánto podrían afectar los valores ausentes a tus cómputos."
   ]
  },
  {
   "cell_type": "markdown",
   "metadata": {
    "id": "fSv2laPA_Zct"
   },
   "source": [
    "Reemplazar los valores ausentes en 'track', 'artist', y 'genre' con la string 'unknown'. Para ello, crea la lista columns_to_replace, recórrela con un bucle for y reemplaza los valores ausentes en cada una de las columnas:"
   ]
  },
  {
   "cell_type": "code",
   "execution_count": 9,
   "metadata": {
    "id": "KplB5qWs_Zct"
   },
   "outputs": [],
   "source": [
    "# recorriendo los nombres de las columnas y reemplazando los valores ausentes con 'unknown'\n",
    "columns_to_replace = ['track', 'artist', 'genre']\n",
    "\n",
    "#df[col]\n",
    "for col in columns_to_replace:\n",
    "    df[col] = df[col].fillna('unknown')\n",
    "                                                                                                                                                                                   "
   ]
  },
  {
   "cell_type": "markdown",
   "metadata": {},
   "source": [
    "<div class=\"alert alert-block alert-success\">\n",
    "    \n",
    "<b>Comentario del revisor</b> <a class=\"tocSkip\"></a>\n",
    "    \n",
    "¡Buen trabajo, Darius!\n",
    "</div>"
   ]
  },
  {
   "cell_type": "markdown",
   "metadata": {
    "id": "Ilsm-MZo_Zct"
   },
   "source": [
    "Asegúrate de que la tabla no contiene más valores ausentes. Cuenta de nuevo los valores ausentes."
   ]
  },
  {
   "cell_type": "code",
   "execution_count": 10,
   "metadata": {
    "id": "Tq4nYRX4_Zct"
   },
   "outputs": [
    {
     "data": {
      "text/plain": [
       "user_id    0\n",
       "track      0\n",
       "artist     0\n",
       "genre      0\n",
       "city       0\n",
       "time       0\n",
       "day        0\n",
       "dtype: int64"
      ]
     },
     "execution_count": 10,
     "metadata": {},
     "output_type": "execute_result"
    }
   ],
   "source": [
    "# contando valores ausentes\n",
    "\n",
    "df.isna().sum()"
   ]
  },
  {
   "cell_type": "markdown",
   "metadata": {
    "id": "74ZIBmq9VrsK"
   },
   "source": [
    "[Volver a Contenidos](#back)"
   ]
  },
  {
   "cell_type": "markdown",
   "metadata": {
    "id": "BWKRtBJ3_Zct"
   },
   "source": [
    "### Duplicados <a id='duplicates'></a>\n",
    "Encuentra el número de duplicados obvios en la tabla utilizando un comando:"
   ]
  },
  {
   "cell_type": "code",
   "execution_count": 11,
   "metadata": {
    "id": "36eES_S0_Zct"
   },
   "outputs": [
    {
     "name": "stdout",
     "output_type": "stream",
     "text": [
      "65079\n"
     ]
    }
   ],
   "source": [
    "# contando duplicado obvios\n",
    "print(df.duplicated().count())"
   ]
  },
  {
   "cell_type": "markdown",
   "metadata": {
    "id": "Ot25h6XR_Zct"
   },
   "source": [
    "Llama al método pandas para deshacerte de los duplicados obvios:"
   ]
  },
  {
   "cell_type": "code",
   "execution_count": 12,
   "metadata": {
    "id": "exFHq6tt_Zct"
   },
   "outputs": [],
   "source": [
    "# eliminando duplicados obvios\n",
    "df = df.drop_duplicates().reset_index(drop=True)"
   ]
  },
  {
   "cell_type": "markdown",
   "metadata": {},
   "source": [
    "<div class=\"alert alert-block alert-warning\">\n",
    "    \n",
    "<b>Comentario del revisor</b> <a class=\"tocSkip\"></a>\n",
    "    \n",
    "Buen trabajo. Cuando aplicamos el método `drop_duplicates` se eliminan los duplicados pero se conserva el índice inicial, sería mejor reiniciarlo utilizando el método `reset_index` pasándole el argumento `drop=True`.\n",
    "</div>"
   ]
  },
  {
   "cell_type": "markdown",
   "metadata": {},
   "source": [
    "<div class=\"alert alert-block alert-info\">\n",
    "\n",
    "<b>Respuesta del estudiante</b> <a class=\"tocSkip\"></a>\n",
    "\n",
    "Se aplicó reset index para  reiniciar el índice como se ha recomendado.\n",
    "</div>"
   ]
  },
  {
   "cell_type": "markdown",
   "metadata": {},
   "source": [
    "<div class=\"alert alert-block alert-success\">\n",
    "    \n",
    "<b>Comentario del revisor #2</b> <a class=\"tocSkip\"></a>\n",
    "\n",
    "Corregido.\n",
    "</div>"
   ]
  },
  {
   "cell_type": "markdown",
   "metadata": {
    "id": "Im2YwBEG_Zct"
   },
   "source": [
    "Cuenta los duplicados obvios una vez más para asegurarte de que todos han sido eliminados:"
   ]
  },
  {
   "cell_type": "code",
   "execution_count": 13,
   "metadata": {
    "id": "-8PuNWQ0_Zct"
   },
   "outputs": [
    {
     "name": "stdout",
     "output_type": "stream",
     "text": [
      "61253\n"
     ]
    }
   ],
   "source": [
    "# comprobando duplicados\n",
    "print(df.duplicated().count())"
   ]
  },
  {
   "cell_type": "markdown",
   "metadata": {
    "id": "QlFBsxAr_Zct"
   },
   "source": [
    "Ahora deshazte de los duplicados implícitos en la columna genre. Por ejemplo, el nombre de un género se puede escribir de varias formas. Dichos errores también pueden afectar a resultado."
   ]
  },
  {
   "cell_type": "markdown",
   "metadata": {
    "id": "eSjWwsOh_Zct"
   },
   "source": [
    "Imprime una lista de nombres únicos de géneros, ordenados en orden alfabético. Cómo se hace:\n",
    "* Recupera la deseada columna DataFrame \n",
    "* Aplícale un método de orden\n",
    "* Para la columna ordenada, llama al método que te devolverá todos los valores de columna únicos"
   ]
  },
  {
   "cell_type": "code",
   "execution_count": 14,
   "metadata": {
    "id": "JIUcqzZN_Zct"
   },
   "outputs": [
    {
     "name": "stdout",
     "output_type": "stream",
     "text": [
      "['acid' 'acoustic' 'action' 'adult' 'africa' 'afrikaans' 'alternative'\n",
      " 'ambient' 'americana' 'animated' 'anime' 'arabesk' 'arabic' 'arena'\n",
      " 'argentinetango' 'art' 'audiobook' 'avantgarde' 'axé' 'baile' 'balkan'\n",
      " 'beats' 'bigroom' 'black' 'bluegrass' 'blues' 'bollywood' 'bossa'\n",
      " 'brazilian' 'breakbeat' 'breaks' 'broadway' 'cantautori' 'cantopop'\n",
      " 'canzone' 'caribbean' 'caucasian' 'celtic' 'chamber' 'children' 'chill'\n",
      " 'chinese' 'choral' 'christian' 'christmas' 'classical' 'classicmetal'\n",
      " 'club' 'colombian' 'comedy' 'conjazz' 'contemporary' 'country' 'cuban'\n",
      " 'dance' 'dancehall' 'dancepop' 'dark' 'death' 'deep' 'deutschrock'\n",
      " 'deutschspr' 'dirty' 'disco' 'dnb' 'documentary' 'downbeat' 'downtempo'\n",
      " 'drum' 'dub' 'dubstep' 'eastern' 'easy' 'electronic' 'electropop' 'emo'\n",
      " 'entehno' 'epicmetal' 'estrada' 'ethnic' 'eurofolk' 'european'\n",
      " 'experimental' 'extrememetal' 'fado' 'film' 'fitness' 'flamenco' 'folk'\n",
      " 'folklore' 'folkmetal' 'folkrock' 'folktronica' 'forró' 'frankreich'\n",
      " 'französisch' 'french' 'funk' 'future' 'gangsta' 'garage' 'german'\n",
      " 'ghazal' 'gitarre' 'glitch' 'gospel' 'gothic' 'grime' 'grunge' 'gypsy'\n",
      " 'handsup' \"hard'n'heavy\" 'hardcore' 'hardstyle' 'hardtechno' 'hip'\n",
      " 'hip-hop' 'hiphop' 'historisch' 'holiday' 'hop' 'horror' 'house' 'idm'\n",
      " 'independent' 'indian' 'indie' 'indipop' 'industrial' 'inspirational'\n",
      " 'instrumental' 'international' 'irish' 'jam' 'japanese' 'jazz' 'jewish'\n",
      " 'jpop' 'jungle' 'k-pop' 'karadeniz' 'karaoke' 'kayokyoku' 'korean'\n",
      " 'laiko' 'latin' 'latino' 'leftfield' 'local' 'lounge' 'loungeelectronic'\n",
      " 'lovers' 'malaysian' 'mandopop' 'marschmusik' 'meditative'\n",
      " 'mediterranean' 'melodic' 'metal' 'metalcore' 'mexican' 'middle'\n",
      " 'minimal' 'miscellaneous' 'modern' 'mood' 'mpb' 'muslim' 'native'\n",
      " 'neoklassik' 'neue' 'new' 'newage' 'newwave' 'nu' 'nujazz' 'numetal'\n",
      " 'oceania' 'old' 'opera' 'orchestral' 'other' 'piano' 'pop'\n",
      " 'popelectronic' 'popeurodance' 'post' 'posthardcore' 'postrock' 'power'\n",
      " 'progmetal' 'progressive' 'psychedelic' 'punjabi' 'punk' 'quebecois'\n",
      " 'ragga' 'ram' 'rancheras' 'rap' 'rave' 'reggae' 'reggaeton' 'regional'\n",
      " 'relax' 'religious' 'retro' 'rhythm' 'rnb' 'rnr' 'rock' 'rockabilly'\n",
      " 'romance' 'roots' 'ruspop' 'rusrap' 'rusrock' 'salsa' 'samba' 'schlager'\n",
      " 'self' 'sertanejo' 'shoegazing' 'showtunes' 'singer' 'ska' 'slow'\n",
      " 'smooth' 'soul' 'soulful' 'sound' 'soundtrack' 'southern' 'specialty'\n",
      " 'speech' 'spiritual' 'sport' 'stonerrock' 'surf' 'swing' 'synthpop'\n",
      " 'sängerportrait' 'tango' 'tanzorchester' 'taraftar' 'tech' 'techno'\n",
      " 'thrash' 'top' 'traditional' 'tradjazz' 'trance' 'tribal' 'trip'\n",
      " 'triphop' 'tropical' 'türk' 'türkçe' 'unknown' 'urban' 'uzbek' 'variété'\n",
      " 'vi' 'videogame' 'vocal' 'western' 'world' 'worldbeat' 'ïîï']\n"
     ]
    }
   ],
   "source": [
    "# inspeccionando los nombres de géneros únicos\n",
    "\n",
    "print(df['genre'].sort_values().unique())"
   ]
  },
  {
   "cell_type": "markdown",
   "metadata": {
    "id": "qej-Qmuo_Zct"
   },
   "source": [
    "Busca en la lista para encontrar duplicados implícitos del género hiphop. Estos pueden ser nombres escritos incorrectamente o nombres alternativos para el mismo género.\n",
    "\n",
    "Verás los siguientes duplicados implícitos:\n",
    "* `hip`\n",
    "* `hop`\n",
    "* `hip-hop`\n",
    "\n",
    "Para deshacerte de ellos, declara la función replace_wrong_genres() con dos parámetros: \n",
    "* `wrong_genres=` — la lista de duplicados\n",
    "* `correct_genre=` — la string con el valor correcto\n",
    "\n",
    "La función debería corregir los nombres en la columna 'genre' de la tabla df, es decir, remplaza cada valor de la lista wrong_genres con el valor en correct_genre."
   ]
  },
  {
   "cell_type": "code",
   "execution_count": 15,
   "metadata": {
    "id": "ErNDkmns_Zct"
   },
   "outputs": [],
   "source": [
    "# función para reemplazar duplicados implícitos\n",
    "\n",
    "def replace_wrong_genres(wrong_genre, correct_genre):\n",
    "    for wrong_genre in wrong_genres:\n",
    "        df['genre'] = df['genre'].replace(wrong_genre, correct_genre)\n",
    "        "
   ]
  },
  {
   "cell_type": "markdown",
   "metadata": {},
   "source": [
    "<div class=\"alert alert-block alert-danger\">\n",
    "    \n",
    "<b>Comentario del revisor</b> <a class=\"tocSkip\"></a>\n",
    "    \n",
    "La función está bien, solo debemos corregir un detalle. En los argumentos que le pasaste a la función `replace` en lugar de utilizar `wrong_genres`, escribe `wrong_genre`.\n",
    "</div>"
   ]
  },
  {
   "cell_type": "markdown",
   "metadata": {},
   "source": [
    "<div class=\"alert alert-block alert-info\">\n",
    "\n",
    "<b>Respuesta del estudiante</b> <a class=\"tocSkip\"></a>\n",
    "\n",
    "Se cambió 'wrong_genre' en lugar de 'wrong_genres'. No estoy seguro de si era el cambio donde lo realicé (en los argumentos entre paréntesis. Favor de confirmar. Gracias )\n",
    "</div>"
   ]
  },
  {
   "cell_type": "markdown",
   "metadata": {},
   "source": [
    "<div class=\"alert alert-block alert-success\">\n",
    "    \n",
    "<b>Comentario del revisor #2</b> <a class=\"tocSkip\"></a>\n",
    "\n",
    "Corregido.\n",
    "</div>"
   ]
  },
  {
   "cell_type": "markdown",
   "metadata": {
    "id": "aDoBJxbA_Zct"
   },
   "source": [
    "Llama a replace_wrong_genres() y pásale argumentos para que retire los duplicados implícitos (hip, hop y hip-hop) y los reemplace por hiphop:"
   ]
  },
  {
   "cell_type": "code",
   "execution_count": 16,
   "metadata": {
    "id": "YN5i2hpmSo09"
   },
   "outputs": [
    {
     "name": "stdout",
     "output_type": "stream",
     "text": [
      "        user_id                              track            artist  \\\n",
      "0      FFB692EC                  Kamigata To Boots  The Mass Missile   \n",
      "1      55204538        Delayed Because of Accident  Andreas Rönnberg   \n",
      "2        20EC38                  Funiculì funiculà       Mario Lanza   \n",
      "3      A3DD03C9              Dragons in the Sunset        Fire + Ice   \n",
      "4      E2DC1FAE                        Soul People        Space Echo   \n",
      "...         ...                                ...               ...   \n",
      "61248  729CBB09                            My Name            McLean   \n",
      "61249  D08D4A55  Maybe One Day (feat. Black Spade)       Blu & Exile   \n",
      "61250  C5E3A0D5                          Jalopiina           unknown   \n",
      "61251  321D0506                      Freight Train     Chas McDevitt   \n",
      "61252  3A64EF84          Tell Me Sweet Little Lies      Monica Lopez   \n",
      "\n",
      "            genre         city      time        day  \n",
      "0            rock  Shelbyville  20:28:33  Wednesday  \n",
      "1            rock  Springfield  14:07:09     Friday  \n",
      "2             pop  Shelbyville  20:58:07  Wednesday  \n",
      "3            folk  Shelbyville  08:37:09     Monday  \n",
      "4           dance  Springfield  08:34:34     Monday  \n",
      "...           ...          ...       ...        ...  \n",
      "61248         rnb  Springfield  13:32:28  Wednesday  \n",
      "61249      hiphop  Shelbyville  10:00:00     Monday  \n",
      "61250  industrial  Springfield  20:09:26     Friday  \n",
      "61251        rock  Springfield  21:43:59     Friday  \n",
      "61252     country  Springfield  21:59:46     Friday  \n",
      "\n",
      "[61253 rows x 7 columns]\n"
     ]
    }
   ],
   "source": [
    "# eliminando duplicados implícitos\n",
    "\n",
    "wrong_genres = ['hip','hop','hip-hop']\n",
    "correct_genre = 'hiphop'\n",
    "replace_wrong_genres(wrong_genres, correct_genre)\n",
    "\n",
    "print(df)"
   ]
  },
  {
   "cell_type": "markdown",
   "metadata": {},
   "source": [
    "<div class=\"alert alert-block alert-info\">\n",
    "\n",
    "<b>Respuesta del estudiante</b> <a class=\"tocSkip\"></a>\n",
    "\n",
    "Carlos, ¿podrías confirmar si la el código arriba de este comentario está correcto? Gracias :)\n",
    "</div>"
   ]
  },
  {
   "cell_type": "markdown",
   "metadata": {},
   "source": [
    "<div class=\"alert alert-block alert-success\">\n",
    "    \n",
    "<b>Comentario del revisor #2</b> <a class=\"tocSkip\"></a>\n",
    "\n",
    "Corregido.\n",
    "</div>"
   ]
  },
  {
   "cell_type": "markdown",
   "metadata": {
    "id": "zQKF16_RG15m"
   },
   "source": [
    "Asegúrate que los nombres duplicados han sido eliminados. Imprime la lista de valores únicos de la columna 'genre':"
   ]
  },
  {
   "cell_type": "code",
   "execution_count": 17,
   "metadata": {
    "id": "wvixALnFG15m"
   },
   "outputs": [
    {
     "name": "stdout",
     "output_type": "stream",
     "text": [
      "['acid' 'acoustic' 'action' 'adult' 'africa' 'afrikaans' 'alternative'\n",
      " 'ambient' 'americana' 'animated' 'anime' 'arabesk' 'arabic' 'arena'\n",
      " 'argentinetango' 'art' 'audiobook' 'avantgarde' 'axé' 'baile' 'balkan'\n",
      " 'beats' 'bigroom' 'black' 'bluegrass' 'blues' 'bollywood' 'bossa'\n",
      " 'brazilian' 'breakbeat' 'breaks' 'broadway' 'cantautori' 'cantopop'\n",
      " 'canzone' 'caribbean' 'caucasian' 'celtic' 'chamber' 'children' 'chill'\n",
      " 'chinese' 'choral' 'christian' 'christmas' 'classical' 'classicmetal'\n",
      " 'club' 'colombian' 'comedy' 'conjazz' 'contemporary' 'country' 'cuban'\n",
      " 'dance' 'dancehall' 'dancepop' 'dark' 'death' 'deep' 'deutschrock'\n",
      " 'deutschspr' 'dirty' 'disco' 'dnb' 'documentary' 'downbeat' 'downtempo'\n",
      " 'drum' 'dub' 'dubstep' 'eastern' 'easy' 'electronic' 'electropop' 'emo'\n",
      " 'entehno' 'epicmetal' 'estrada' 'ethnic' 'eurofolk' 'european'\n",
      " 'experimental' 'extrememetal' 'fado' 'film' 'fitness' 'flamenco' 'folk'\n",
      " 'folklore' 'folkmetal' 'folkrock' 'folktronica' 'forró' 'frankreich'\n",
      " 'französisch' 'french' 'funk' 'future' 'gangsta' 'garage' 'german'\n",
      " 'ghazal' 'gitarre' 'glitch' 'gospel' 'gothic' 'grime' 'grunge' 'gypsy'\n",
      " 'handsup' \"hard'n'heavy\" 'hardcore' 'hardstyle' 'hardtechno' 'hiphop'\n",
      " 'historisch' 'holiday' 'horror' 'house' 'idm' 'independent' 'indian'\n",
      " 'indie' 'indipop' 'industrial' 'inspirational' 'instrumental'\n",
      " 'international' 'irish' 'jam' 'japanese' 'jazz' 'jewish' 'jpop' 'jungle'\n",
      " 'k-pop' 'karadeniz' 'karaoke' 'kayokyoku' 'korean' 'laiko' 'latin'\n",
      " 'latino' 'leftfield' 'local' 'lounge' 'loungeelectronic' 'lovers'\n",
      " 'malaysian' 'mandopop' 'marschmusik' 'meditative' 'mediterranean'\n",
      " 'melodic' 'metal' 'metalcore' 'mexican' 'middle' 'minimal'\n",
      " 'miscellaneous' 'modern' 'mood' 'mpb' 'muslim' 'native' 'neoklassik'\n",
      " 'neue' 'new' 'newage' 'newwave' 'nu' 'nujazz' 'numetal' 'oceania' 'old'\n",
      " 'opera' 'orchestral' 'other' 'piano' 'pop' 'popelectronic' 'popeurodance'\n",
      " 'post' 'posthardcore' 'postrock' 'power' 'progmetal' 'progressive'\n",
      " 'psychedelic' 'punjabi' 'punk' 'quebecois' 'ragga' 'ram' 'rancheras'\n",
      " 'rap' 'rave' 'reggae' 'reggaeton' 'regional' 'relax' 'religious' 'retro'\n",
      " 'rhythm' 'rnb' 'rnr' 'rock' 'rockabilly' 'romance' 'roots' 'ruspop'\n",
      " 'rusrap' 'rusrock' 'salsa' 'samba' 'schlager' 'self' 'sertanejo'\n",
      " 'shoegazing' 'showtunes' 'singer' 'ska' 'slow' 'smooth' 'soul' 'soulful'\n",
      " 'sound' 'soundtrack' 'southern' 'specialty' 'speech' 'spiritual' 'sport'\n",
      " 'stonerrock' 'surf' 'swing' 'synthpop' 'sängerportrait' 'tango'\n",
      " 'tanzorchester' 'taraftar' 'tech' 'techno' 'thrash' 'top' 'traditional'\n",
      " 'tradjazz' 'trance' 'tribal' 'trip' 'triphop' 'tropical' 'türk' 'türkçe'\n",
      " 'unknown' 'urban' 'uzbek' 'variété' 'vi' 'videogame' 'vocal' 'western'\n",
      " 'world' 'worldbeat' 'ïîï']\n"
     ]
    }
   ],
   "source": [
    "# revisando en busca de duplicados implícitos\n",
    "\n",
    "print(df['genre'].sort_values().unique())"
   ]
  },
  {
   "cell_type": "markdown",
   "metadata": {
    "id": "ALgNbvF3VtPA"
   },
   "source": [
    "[Volver a Contenidos](#back)"
   ]
  },
  {
   "cell_type": "markdown",
   "metadata": {
    "id": "jz6a9-7HQUDd"
   },
   "source": [
    "### Conclusiones <a id='data_preprocessing_conclusions'></a>\n",
    "Detectamos tres problemas con los datos:\n",
    "\n",
    "- Estilos de encabezados incorrectos\n",
    "- Valores ausentes\n",
    "- Duplicados obvios e implícitos\n",
    "\n",
    "Los encabezados han sido eliminados para conseguir que el procesamiento de la tabla sea más sencillo.\n",
    "\n",
    "Todos los valores ausentes han sido reemplazados por 'unknown'. Pero todavía tenemos que ver si los valores ausentes en 'genre' afectan a nuestros cálculos.\n",
    "\n",
    "La ausencia de duplicados hará que los resultados sean mas precisos y fáciles de entender.\n",
    "\n",
    "Ahora ya podemos continuar probando las hipótesis. "
   ]
  },
  {
   "cell_type": "markdown",
   "metadata": {
    "id": "eK1es74rVujj"
   },
   "source": [
    "[Volver a Contenidos](#back)"
   ]
  },
  {
   "cell_type": "markdown",
   "metadata": {
    "id": "WttZHXH0SqKk"
   },
   "source": [
    "## Etapa 3. Prueba de hipótesis <a id='hypotheses'></a>"
   ]
  },
  {
   "cell_type": "markdown",
   "metadata": {
    "id": "Im936VVi_Zcu"
   },
   "source": [
    "### Hipótesis 1: comparar el comportamiento del usuario en las dos ciudades <a id='activity'></a>"
   ]
  },
  {
   "cell_type": "markdown",
   "metadata": {
    "id": "nwt_MuaL_Zcu"
   },
   "source": [
    "De acuerdo con la primera hipótesis, los usuarios de Springfield y Shelbyville escuchan música de forma distinta. Comprueba esto utilizando los datos de tres días de la semana: lunes, miércoles y viernes.\n",
    "\n",
    "* Divide a los usuarios en grupos por ciudad.\n",
    "* Compara cuántas pistas reprodujo cada grupo el lunes, el miércoles y el viernes.\n"
   ]
  },
  {
   "cell_type": "markdown",
   "metadata": {
    "id": "8Dw_YMmT_Zcu"
   },
   "source": [
    "Por el bien del ejercicio, realiza cada cálculo de forma separada. \n",
    "\n",
    "Evalúa la actividad del usuario en cada ciudad. Agrupa los datos por ciudad y encuentra el número de canciones reproducidas en cada grupo.\n",
    "\n"
   ]
  },
  {
   "cell_type": "code",
   "execution_count": 18,
   "metadata": {
    "id": "0_Qs96oh_Zcu"
   },
   "outputs": [
    {
     "name": "stdout",
     "output_type": "stream",
     "text": [
      "             user_id  track  artist  genre   time    day\n",
      "city                                                    \n",
      "Shelbyville    18512  18512   18512  18512  18512  18512\n",
      "Springfield    42741  42741   42741  42741  42741  42741\n"
     ]
    }
   ],
   "source": [
    "# contando las pistas reproducidas en cada ciudad\n",
    "\n",
    "print(df.groupby('city').count())"
   ]
  },
  {
   "cell_type": "markdown",
   "metadata": {
    "id": "dzli3w8o_Zcu"
   },
   "source": [
    "Springfield ha reproducido más pistas que Shelbyville. Pero eso no implica que los ciudadanos de Springfield escuchen música más a menudo. Esta ciudad es simplemente más grande y hay más usuarios.\n",
    "\n",
    "Ahora agrupa los datos por día de la semana y encuentra el número de pistas reproducidas el lunes, miércoles y viernes.\n"
   ]
  },
  {
   "cell_type": "code",
   "execution_count": 19,
   "metadata": {
    "id": "uZMKjiJz_Zcu"
   },
   "outputs": [
    {
     "name": "stdout",
     "output_type": "stream",
     "text": [
      "day\n",
      "Friday       21840\n",
      "Monday       21354\n",
      "Wednesday    18059\n",
      "Name: track, dtype: int64\n"
     ]
    }
   ],
   "source": [
    "# calculando las pistas reproducidas en cada uno de los tres días\n",
    "\n",
    "print(df.groupby('day')['track'].count())"
   ]
  },
  {
   "cell_type": "markdown",
   "metadata": {},
   "source": [
    "<div class=\"alert alert-block alert-warning\">\n",
    "    \n",
    "<b>Comentario del revisor</b> <a class=\"tocSkip\"></a>\n",
    "    \n",
    "No es necesario que accedas a ninguna variable, pero si vas a acceder a alguna, lo mejor sería la variable `track`.\n",
    "</div>"
   ]
  },
  {
   "cell_type": "markdown",
   "metadata": {},
   "source": [
    "<div class=\"alert alert-block alert-info\">\n",
    "\n",
    "<b>Respuesta del estudiante</b> <a class=\"tocSkip\"></a>\n",
    "\n",
    "Podrías confirmar si el update que hice es correcto, Carlos? (Puse la variable track entre los corchetes)\n",
    "</div>"
   ]
  },
  {
   "cell_type": "markdown",
   "metadata": {
    "id": "cC2tNrlL_Zcu"
   },
   "source": [
    "El miércoles fue el día más silencioso de todos. Pero si consideramos las dos ciudades por separado podríamos llegar a una conclusión diferente."
   ]
  },
  {
   "cell_type": "markdown",
   "metadata": {
    "id": "POzs8bGa_Zcu"
   },
   "source": [
    "Ya has visto cómo funciona el agrupar por ciudad o día. Ahora escribe la función que agrupará ambos.\n",
    "\n",
    "Crea la función number_tracks() para calcular el número de canciones reproducidas en un determinado día y ciudad. Requerirá dos parámetros:\n",
    "* día de la semana\n",
    "* nombre de la ciudad\n",
    "\n",
    "En la función, utiliza una variable para almacenar las filas de la tabla original, donde:\n",
    "  * el valor de la columna 'day' es igual al parámetro de día\n",
    "  * el valor de la columna 'city' es igual al parámetro de ciudad\n",
    "\n",
    "Aplica un filtrado consecutivo con indexación lógica.\n",
    "\n",
    "Después, calcula los valores de la columna 'user_id' en la tabla resultante. Almacena el resultado en la nueva variable. Recupera esta variable de la función."
   ]
  },
  {
   "cell_type": "code",
   "execution_count": 20,
   "metadata": {
    "id": "Nz3GdQB1_Zcu"
   },
   "outputs": [],
   "source": [
    "# <creando la función number_tracks()>\n",
    "# declararemos la función con dos parámetros: day=, city=.\n",
    "\n",
    "def number_tracks(day, city):\n",
    "    track_list = df[(df['day']==day)&(df['city']==city)]\n",
    "    track_list_count = track_list['user_id'].count()\n",
    "    return track_list_count\n",
    "\n",
    "# deja que la variable track_list almacene las filas df en las que\n",
    "# el valor en la columna 'day' es igual al parámetro day= y, al mismo tiempo, \n",
    "# el valor de la columna 'city' es igual al parámetro city= (aplica el filtrado consecutivo \n",
    "# con indexación lógica).\n",
    "# deja que la variable track_list_count almacene el número de valores de la columna 'user_id' en track_list\n",
    "# (encontrado con el método count()).\n",
    "# permite que la función devuelva un número: el valor de track_list_count.\n",
    "\n",
    "# la función cuenta las pistas reproducidas en un cierto día y ciudad.\n",
    "# primero recupera las filas del día deseado de la tabla,\n",
    "# después filtra las filas de la ciudad deseada del resultado,\n",
    "# entonces, encuentra el número de valores de 'user_id' en la tabla filtrada,\n",
    "# y devuelve ese número.\n",
    "# para ver lo que devuelve, envuelve la llamada de la función en print()."
   ]
  },
  {
   "cell_type": "markdown",
   "metadata": {
    "id": "ytf7xFrFJQ2r"
   },
   "source": [
    "Llama a number_tracks() seis veces, cambiando los valores de los parámetros, para que recuperes los datos de ambas ciudades para cada uno de los tres días."
   ]
  },
  {
   "cell_type": "code",
   "execution_count": 21,
   "metadata": {
    "id": "rJcRATNQ_Zcu"
   },
   "outputs": [
    {
     "data": {
      "text/plain": [
       "15740"
      ]
     },
     "execution_count": 21,
     "metadata": {},
     "output_type": "execute_result"
    }
   ],
   "source": [
    "# el número de canciones reproducidas en Springfield el lunes\n",
    "\n",
    "number_tracks('Monday','Springfield')"
   ]
  },
  {
   "cell_type": "code",
   "execution_count": 22,
   "metadata": {
    "id": "hq_ncZ5T_Zcu"
   },
   "outputs": [
    {
     "data": {
      "text/plain": [
       "5614"
      ]
     },
     "execution_count": 22,
     "metadata": {},
     "output_type": "execute_result"
    }
   ],
   "source": [
    "# el número de canciones reproducidas en Shelbyville el lunes\n",
    "number_tracks('Monday','Shelbyville')"
   ]
  },
  {
   "cell_type": "code",
   "execution_count": 23,
   "metadata": {
    "id": "_NTy2VPU_Zcu"
   },
   "outputs": [
    {
     "data": {
      "text/plain": [
       "11056"
      ]
     },
     "execution_count": 23,
     "metadata": {},
     "output_type": "execute_result"
    }
   ],
   "source": [
    "# el número de canciones reproducidas en Springfield el miércoles\n",
    "number_tracks('Wednesday','Springfield')"
   ]
  },
  {
   "cell_type": "code",
   "execution_count": 24,
   "metadata": {
    "id": "j2y3TAwo_Zcu"
   },
   "outputs": [
    {
     "data": {
      "text/plain": [
       "7003"
      ]
     },
     "execution_count": 24,
     "metadata": {},
     "output_type": "execute_result"
    }
   ],
   "source": [
    "# el número de canciones reproducidas en Shelbyville el miércoles\n",
    "number_tracks('Wednesday','Shelbyville')"
   ]
  },
  {
   "cell_type": "code",
   "execution_count": 25,
   "metadata": {
    "id": "vYDw5u_K_Zcu"
   },
   "outputs": [
    {
     "data": {
      "text/plain": [
       "15945"
      ]
     },
     "execution_count": 25,
     "metadata": {},
     "output_type": "execute_result"
    }
   ],
   "source": [
    "# el número de canciones reproducidas en Springfield el viernes\n",
    "number_tracks('Friday','Springfield')"
   ]
  },
  {
   "cell_type": "code",
   "execution_count": 26,
   "metadata": {
    "id": "8_yzFtW3_Zcu"
   },
   "outputs": [
    {
     "data": {
      "text/plain": [
       "5895"
      ]
     },
     "execution_count": 26,
     "metadata": {},
     "output_type": "execute_result"
    }
   ],
   "source": [
    "# el número de canciones reproducidas en Shelbyville el viernes\n",
    "number_tracks('Friday','Shelbyville')"
   ]
  },
  {
   "cell_type": "markdown",
   "metadata": {
    "id": "7QXffbO-_Zcu"
   },
   "source": [
    "Utiliza pd.DataFrame para crear una tabla, donde\n",
    "* Los nombres de las columnas son: `['city', 'monday', 'wednesday', 'friday']`\n",
    "* Los datos son los resultados que conseguiste de number_tracks()`"
   ]
  },
  {
   "cell_type": "code",
   "execution_count": 27,
   "metadata": {
    "id": "APAcLpOr_Zcu"
   },
   "outputs": [
    {
     "data": {
      "text/html": [
       "<div>\n",
       "<style scoped>\n",
       "    .dataframe tbody tr th:only-of-type {\n",
       "        vertical-align: middle;\n",
       "    }\n",
       "\n",
       "    .dataframe tbody tr th {\n",
       "        vertical-align: top;\n",
       "    }\n",
       "\n",
       "    .dataframe thead th {\n",
       "        text-align: right;\n",
       "    }\n",
       "</style>\n",
       "<table border=\"1\" class=\"dataframe\">\n",
       "  <thead>\n",
       "    <tr style=\"text-align: right;\">\n",
       "      <th></th>\n",
       "      <th>city</th>\n",
       "      <th>monday</th>\n",
       "      <th>wednesday</th>\n",
       "      <th>friday</th>\n",
       "    </tr>\n",
       "  </thead>\n",
       "  <tbody>\n",
       "    <tr>\n",
       "      <th>0</th>\n",
       "      <td>Springfield</td>\n",
       "      <td>15740</td>\n",
       "      <td>11056</td>\n",
       "      <td>15945</td>\n",
       "    </tr>\n",
       "    <tr>\n",
       "      <th>1</th>\n",
       "      <td>Shelbyville</td>\n",
       "      <td>5614</td>\n",
       "      <td>7003</td>\n",
       "      <td>5895</td>\n",
       "    </tr>\n",
       "  </tbody>\n",
       "</table>\n",
       "</div>"
      ],
      "text/plain": [
       "          city  monday  wednesday  friday\n",
       "0  Springfield   15740      11056   15945\n",
       "1  Shelbyville    5614       7003    5895"
      ]
     },
     "execution_count": 27,
     "metadata": {},
     "output_type": "execute_result"
    }
   ],
   "source": [
    "# tabla con los resultados\n",
    "\n",
    "data = [['Springfield', 15740, 11056, 15945], \n",
    "       ['Shelbyville', 5614, 7003, 5895]\n",
    "       ]\n",
    "\n",
    "cols = ['city', 'monday', 'wednesday', 'friday']\n",
    "\n",
    "results = pd.DataFrame(data = data , columns = cols)\n",
    "results"
   ]
  },
  {
   "cell_type": "markdown",
   "metadata": {
    "id": "-EgPIHYu_Zcu"
   },
   "source": [
    "**Conclusiones**\n",
    "\n",
    "Los datos revelan las diferencias en el comportamiento de los usuarios:\n",
    "\n",
    "- En Springfield, el número de canciones reproducidas alcanzan el punto máximo los lunes y viernes mientras que los miércoles hay un descenso de la actividad.\n",
    "- En Shelbyville, al contario, los usuarios escuchan más música los miércoles. La actividad de los usuarios los lunes y viernes es menor.\n",
    "\n",
    "Así que la primera hipótesis parece ser correcta."
   ]
  },
  {
   "cell_type": "markdown",
   "metadata": {},
   "source": [
    "<div class=\"alert alert-block alert-danger\">\n",
    "    \n",
    "<b>Comentario del revisor</b> <a class=\"tocSkip\"></a>\n",
    "    \n",
    "Es necesario que trabajemos en este punto. Debemos aplicar dos filtros al dataframe, uno por ciudad y otro por día. Después de eso, debemos acceder a la variable 'user_id' y a través del método `count` contar el número de registros. Este valor debe ser almacenado en la variable `track_list_count` y entregarlo al llamar la función.\n",
    "</div>"
   ]
  },
  {
   "cell_type": "markdown",
   "metadata": {},
   "source": [
    "<div class=\"alert alert-block alert-info\">\n",
    "\n",
    "<b>Respuesta del estudiante</b> <a class=\"tocSkip\"></a>\n",
    "\n",
    "Se realizó ejercicio siguiendo instrucciones y comentarios del revisor. Actualmente se muestran las tablas con los valores en los valores que se indican y previamente se realizó una lista de listas para definir valores de data y columnas.\n",
    "</div>"
   ]
  },
  {
   "cell_type": "markdown",
   "metadata": {},
   "source": [
    "<div class=\"alert alert-block alert-success\">\n",
    "    \n",
    "<b>Comentario del revisor #2</b> <a class=\"tocSkip\"></a>\n",
    "\n",
    "Corregido.\n",
    "</div>"
   ]
  },
  {
   "cell_type": "markdown",
   "metadata": {
    "id": "p7nFQajCVw5B"
   },
   "source": [
    "[Volver a Contenidos](#back)"
   ]
  },
  {
   "cell_type": "markdown",
   "metadata": {
    "id": "atZAxtq4_Zcu"
   },
   "source": [
    "### Hipótesis 2: música al principio y al final de la semana <a id='week'></a>"
   ]
  },
  {
   "cell_type": "markdown",
   "metadata": {
    "id": "eXrQqXFH_Zcu"
   },
   "source": [
    "De acuerdo con la segunda hipótesis, los lunes por la mañana y los viernes por la noche los ciudadanos de Springfield escuchan géneros que difieren de aquellos que los usuarios de Shelbyville disfrutan."
   ]
  },
  {
   "cell_type": "markdown",
   "metadata": {
    "id": "S8UcW6Hw_Zcu"
   },
   "source": [
    "Obtén tablas (asegúrate de que el nombre de tu tabla combinada encaja con el DataFrame dado en los dos bloques de código de abajo):\n",
    "* Para Springfield — `spr_general`\n",
    "* Para Shelbyville — `shel_general`"
   ]
  },
  {
   "cell_type": "code",
   "execution_count": 28,
   "metadata": {
    "id": "qeaFfM_P_Zcu"
   },
   "outputs": [],
   "source": [
    "# obteniendo la tabla spr_general de las filas de df, \n",
    "# donde los valores en la columna 'city' es 'Springfield'\n",
    "\n",
    "spr_general = df[df['city'] == 'Springfield']"
   ]
  },
  {
   "cell_type": "code",
   "execution_count": 29,
   "metadata": {
    "id": "ORaVRKto_Zcu"
   },
   "outputs": [],
   "source": [
    "# obteniendo shel_general de las filas df,\n",
    "# donde el valor de la columna 'city' es 'Shelbyville'\n",
    "\n",
    "shel_general = df[df['city'] == 'Shelbyville']"
   ]
  },
  {
   "cell_type": "markdown",
   "metadata": {
    "id": "MEJV-CX2_Zcu"
   },
   "source": [
    "Escribe la función genre_weekday() con cuatro parámetros:\n",
    "* Una tabla para los datos\n",
    "* El día de la semana\n",
    "* La marca de fecha y hora en formato 'hh:mm'\n",
    "* La marca de fecha y hora en formato 'hh:mm'\n",
    "\n",
    "La función debería devolver información de los 15 géneros más populares de un día determinado en un período entre dos marcas de fecha y hora."
   ]
  },
  {
   "cell_type": "code",
   "execution_count": 30,
   "metadata": {
    "id": "laJT9BYl_Zcu"
   },
   "outputs": [],
   "source": [
    "# declarando la función genre_weekday() con los parámetros day=, time1= y time2=. Debería\n",
    "# devolver información sobre los géneros más populares de un determinado día a una determinada hora:\n",
    "\n",
    "# 1) Deja que la variable genre_df almacene las filas que cumplen varias condiciones:\n",
    "#    - el valor de la columna 'day' es igual al valor del argumento day=\n",
    "#    - el valor de la columna 'time' es mayor que el valor del argumento time1=\n",
    "#    - el valor en la columna 'time' es menor que el valor del argumento time2=\n",
    "#    Utiliza un filtrado consecutivo con indexación lógica.\n",
    "\n",
    "# 2) Agrupa genre_df por la columna 'genre', toma una de sus columnas, \n",
    "#    y utiliza el método count() para encontrar el número de entradas por cada uno de \n",
    "#    los géneros representados; almacena los Series resultantes en\n",
    "#    la variable genre_df_count\n",
    "\n",
    "# 3) Ordena genre_df_count en orden descendente de frecuencia y guarda el resultado\n",
    "#    en la variable genre_df_sorted\n",
    "\n",
    "# 4) Devuelve un objeto Series con los primeros 15 valores de genre_df_sorted - los 15\n",
    "#    géneros más populares (en un determinado día, en un determinado periodo de tiempo)\n",
    "\n",
    "def genre_weekday(df, day, time1, time2):\n",
    "    # filtrado consecutivo\n",
    "    # genre_df solo almacenará aquellas filas df en las que el día sea igual a day=\n",
    "    genre_df = df[df['day'] == day]\n",
    "    # genre_df solo almacenará aquellas filas df en las que el tiempo sea menos que time2=\n",
    "    genre_df = genre_df[genre_df['time'] < time2]\n",
    "    # genre_df solo almacenará aquellas filas df en las que el tiempo sea mayor que time1=\n",
    "    genre_df = genre_df[genre_df['time'] > time1]\n",
    "    # agrupa el DataFrame filtrado por la columna con los nombres de los géneros, toma la columna de género, y encuentra el número de filas por cada género con el método count()\n",
    "    genre_df_grouped = genre_df.groupby('genre')['genre'].count()\n",
    "    # ordenaremos el resultado en orden descendente (por lo que los géneros más populares aparecerán primero en el objeto Series)\n",
    "    genre_df_sorted = genre_df_grouped.sort_values(ascending=False)\n",
    "    # devolveremos el objeto Series que almacena los 15 géneros más populares en un día determinado en un periodo de tiempo determinado\n",
    "    return genre_df_sorted[:15]"
   ]
  },
  {
   "cell_type": "markdown",
   "metadata": {},
   "source": [
    "<div class=\"alert alert-block alert-success\">\n",
    "    \n",
    "<b>Comentario del revisor</b> <a class=\"tocSkip\"></a>\n",
    "    \n",
    "Bien. En un futuro podrías aplicar los filtros en una sola línea empleando operadores lógicos.\n",
    "</div>"
   ]
  },
  {
   "cell_type": "markdown",
   "metadata": {
    "id": "la2s2_PF_Zcu"
   },
   "source": [
    "Compara los resultados de la función `genre_weekday()`para Springfield y Shelbyville el lunes por la mañana (de 7 a 11) y el viernes por la tarde (de 17:00 a 23:00):"
   ]
  },
  {
   "cell_type": "code",
   "execution_count": 31,
   "metadata": {
    "id": "yz7itPUQ_Zcu"
   },
   "outputs": [
    {
     "data": {
      "text/plain": [
       "genre\n",
       "pop            781\n",
       "dance          549\n",
       "electronic     480\n",
       "rock           474\n",
       "hiphop         286\n",
       "ruspop         186\n",
       "world          181\n",
       "rusrap         175\n",
       "alternative    164\n",
       "unknown        161\n",
       "classical      157\n",
       "metal          120\n",
       "jazz           100\n",
       "folk            97\n",
       "soundtrack      95\n",
       "Name: genre, dtype: int64"
      ]
     },
     "execution_count": 31,
     "metadata": {},
     "output_type": "execute_result"
    }
   ],
   "source": [
    "# llamando a la función para el lunes por la mañana en Springfield (utilizando spr_general en vez de la tabla df)\n",
    "\n",
    "genre_weekday(spr_general, 'Monday', '07:00', '11:00')"
   ]
  },
  {
   "cell_type": "code",
   "execution_count": 32,
   "metadata": {
    "id": "kwUcHPdy_Zcu"
   },
   "outputs": [
    {
     "data": {
      "text/plain": [
       "genre\n",
       "pop            218\n",
       "dance          182\n",
       "rock           162\n",
       "electronic     147\n",
       "hiphop          80\n",
       "ruspop          64\n",
       "alternative     58\n",
       "rusrap          55\n",
       "jazz            44\n",
       "classical       40\n",
       "world           36\n",
       "rap             32\n",
       "soundtrack      31\n",
       "rnb             27\n",
       "metal           27\n",
       "Name: genre, dtype: int64"
      ]
     },
     "execution_count": 32,
     "metadata": {},
     "output_type": "execute_result"
    }
   ],
   "source": [
    "# llamando a la función para el lunes por la mañana en Shelbyville (utilizando shel_general en vez de la tabla df)\n",
    "\n",
    "genre_weekday(shel_general, 'Monday', '07:00', '11:00')"
   ]
  },
  {
   "cell_type": "code",
   "execution_count": 33,
   "metadata": {
    "id": "EzXVRE1o_Zcu"
   },
   "outputs": [
    {
     "data": {
      "text/plain": [
       "genre\n",
       "pop            713\n",
       "rock           517\n",
       "dance          495\n",
       "electronic     482\n",
       "hiphop         273\n",
       "world          208\n",
       "ruspop         170\n",
       "classical      163\n",
       "alternative    163\n",
       "rusrap         142\n",
       "jazz           111\n",
       "unknown        110\n",
       "soundtrack     105\n",
       "rnb             90\n",
       "metal           88\n",
       "Name: genre, dtype: int64"
      ]
     },
     "execution_count": 33,
     "metadata": {},
     "output_type": "execute_result"
    }
   ],
   "source": [
    "# llamando a la función para el viernes por la tarde en Springfield\n",
    "\n",
    "genre_weekday(spr_general, 'Friday', '17:00', '23:00')"
   ]
  },
  {
   "cell_type": "code",
   "execution_count": 34,
   "metadata": {
    "id": "JZaEKu5v_Zcu"
   },
   "outputs": [
    {
     "data": {
      "text/plain": [
       "genre\n",
       "pop            256\n",
       "rock           216\n",
       "electronic     216\n",
       "dance          210\n",
       "hiphop          97\n",
       "alternative     63\n",
       "jazz            61\n",
       "classical       60\n",
       "rusrap          59\n",
       "world           54\n",
       "unknown         47\n",
       "ruspop          47\n",
       "soundtrack      40\n",
       "metal           39\n",
       "rap             36\n",
       "Name: genre, dtype: int64"
      ]
     },
     "execution_count": 34,
     "metadata": {},
     "output_type": "execute_result"
    }
   ],
   "source": [
    "# llamando a la función para el viernes por la tarde en Shelbyville\n",
    "\n",
    "genre_weekday(shel_general, 'Friday', '17:00', '23:00')"
   ]
  },
  {
   "cell_type": "markdown",
   "metadata": {
    "id": "wrCe4MNX_Zcu"
   },
   "source": [
    "**Conclusión**\n",
    "\n",
    "Habiendo comparado los 15 géneros más populares del lunes por la mañana podemos concluir lo siguiente:\n",
    "\n",
    "1. Los usuarios de Springfield y Shelbyville escuchan música similar. Los cinco géneros más populares son los mismos, solo rock y electrónica han intercambiado posiciones.\n",
    "\n",
    "2. En Springfield el número de valores ausentes resultaron ser tan altos que el valor 'unknown' llegó al décimo. Esto significa que los valores ausentes forman una parte considerable de los datos, lo que podría ser la base de la cuestión sobre la fiabilidad de nuestras conclusiones.\n",
    "\n",
    "Para el viernes por la tarde, la situación es similar. Los géneros individuales varían algo pero, en general, los 15 más populares son parecidos en las dos ciudades.\n",
    "\n",
    "De esta forma, la segunda hipótesis ha sido parcialmente demostrada:\n",
    "* Los usuarios escuchan música similar al principio y al final de la semana.\n",
    "* No hay una gran diferencia entre Springfield y Shelbyville. En ambas ciudades, el pop es el género más popular.\n",
    "\n",
    "Sin embargo, el número de valores ausentes hace este resultado un tanto cuestionable. En Springfield, hay tantos que afectan a nuestros 15 más populares. De no faltarnos esos valores, las cosas podrían parecer diferentes."
   ]
  },
  {
   "cell_type": "markdown",
   "metadata": {
    "id": "jLmXgdanVyhP"
   },
   "source": [
    "[Volver a Contenidos](#back)"
   ]
  },
  {
   "cell_type": "markdown",
   "metadata": {
    "id": "JolODAqr_Zcu"
   },
   "source": [
    "### Hipótesis 3: preferencias de género en Springfield y Shelbyville <a id='genre'></a>\n",
    "\n",
    "Hipótesis: Shelbyville ama la música rap. A los ciudadanos de Springfield les gusta más el pop."
   ]
  },
  {
   "cell_type": "markdown",
   "metadata": {
    "id": "DlegSvaT_Zcu"
   },
   "source": [
    "Agrupa la tabla spr_general por género y encuentra el número de canciones reproducidas de cada género con el método count(). Después, ordena el resultado en orden descendente y guárdalo en spr_genres."
   ]
  },
  {
   "cell_type": "code",
   "execution_count": 35,
   "metadata": {
    "id": "r19lIPke_Zcu"
   },
   "outputs": [],
   "source": [
    "# en una línea: agrupa la tabla spr_general por la columna 'genre', \n",
    "\n",
    "spr_genres = spr_general.groupby('genre')['genre'].count().sort_values(ascending=False)\n",
    "\n",
    "# cuenta los valores 'genre' con count() en la agrupación, \n",
    "# ordena el Series resultante en orden descendiente, y almacénalo en spr_genres"
   ]
  },
  {
   "cell_type": "markdown",
   "metadata": {
    "id": "6kMuomxTiIr8"
   },
   "source": [
    "Imprime las 10 primeras filas de spr_genres:"
   ]
  },
  {
   "cell_type": "code",
   "execution_count": 36,
   "metadata": {
    "id": "WhCSooF8_Zcv"
   },
   "outputs": [
    {
     "data": {
      "text/plain": [
       "genre\n",
       "pop            5892\n",
       "dance          4435\n",
       "rock           3965\n",
       "electronic     3786\n",
       "hiphop         2096\n",
       "classical      1616\n",
       "world          1432\n",
       "alternative    1379\n",
       "ruspop         1372\n",
       "rusrap         1161\n",
       "Name: genre, dtype: int64"
      ]
     },
     "execution_count": 36,
     "metadata": {},
     "output_type": "execute_result"
    }
   ],
   "source": [
    "# imprimiendo las 10 primeras filas de spr_genres\n",
    "spr_genres.head(10)"
   ]
  },
  {
   "cell_type": "markdown",
   "metadata": {
    "id": "cnPG2vnN_Zcv"
   },
   "source": [
    "Ahora haz lo mismo con los datos de Shelbyville.\n",
    "\n",
    "Agrupa la tabla shel_general por género y encuentra el número de canciones reproducidas de cada género. Después, ordena el resultado en orden descendente y guárdalo en la tabla shel_genres:\n"
   ]
  },
  {
   "cell_type": "code",
   "execution_count": 41,
   "metadata": {
    "id": "gluLIpE7_Zcv"
   },
   "outputs": [],
   "source": [
    "# en una línea: agrupa la tabla shel_general por la columna 'genre', \n",
    "\n",
    "shel_genres = shel_general.groupby('genre')['genre'].count().sort_values(ascending=False)\n",
    "\n",
    "# cuenta los valores 'genre' en el agrupamiento con count(), \n",
    "# ordena el Series resultante en orden descendente y guárdalo en shel_genres"
   ]
  },
  {
   "cell_type": "markdown",
   "metadata": {
    "id": "5Doha_ODgyQ8"
   },
   "source": [
    "Imprime las 10 primeras filas de shel_genres:"
   ]
  },
  {
   "cell_type": "code",
   "execution_count": 42,
   "metadata": {
    "id": "uaGJHjVU_Zcv"
   },
   "outputs": [
    {
     "data": {
      "text/plain": [
       "genre\n",
       "pop            2431\n",
       "dance          1932\n",
       "rock           1879\n",
       "electronic     1736\n",
       "hiphop          960\n",
       "alternative     649\n",
       "classical       646\n",
       "rusrap          564\n",
       "ruspop          538\n",
       "world           515\n",
       "Name: genre, dtype: int64"
      ]
     },
     "execution_count": 42,
     "metadata": {},
     "output_type": "execute_result"
    }
   ],
   "source": [
    "# imprimiendo las 10 primeras filas de shel_genres\n",
    "shel_genres.head(10)"
   ]
  },
  {
   "cell_type": "markdown",
   "metadata": {
    "id": "RY51YJYu_Zcv"
   },
   "source": [
    "**Conclusión**"
   ]
  },
  {
   "cell_type": "markdown",
   "metadata": {
    "id": "nVhnJEm__Zcv"
   },
   "source": [
    "La hipótesis ha sido parcialmente demostrada:\n",
    "* La música pop es el género más popular en Springfield, tal como se esperaba.\n",
    "* Sin embargo, la música pop ha resultado ser igual de popular en Springfield que en Shelbyville y el rap no estaba entre los 5 más populares en ninguna de las ciudades.\n"
   ]
  },
  {
   "cell_type": "markdown",
   "metadata": {},
   "source": [
    "<div class=\"alert alert-block alert-danger\">\n",
    "    \n",
    "<b>Comentario del revisor</b> <a class=\"tocSkip\"></a>\n",
    "\n",
    "Trabajemos en este punto siguiendo las instrucciones del ejercicio. Agrupamos por `genre` (`.groupby('genre')`), accedemos a `genre`(`['genre']`), empleamos el método `count` (`.count()`) para contar el número de datos, se ordena de manera descendente (`.sort_values(ascending=False)`) y guardamos el resultado en la variable indicada.\n",
    "</div>"
   ]
  },
  {
   "cell_type": "markdown",
   "metadata": {},
   "source": [
    "<div class=\"alert alert-block alert-info\">\n",
    "\n",
    "<b>Respuesta del estudiante</b> <a class=\"tocSkip\"></a>\n",
    "\n",
    "Se realizó hipótesis 3 de preferencias en Shelville y Springfield siguiendo comentarios del revisor e instrucciones.\n",
    "</div>"
   ]
  },
  {
   "cell_type": "markdown",
   "metadata": {},
   "source": [
    "<div class=\"alert alert-block alert-success\">\n",
    "    \n",
    "<b>Comentario del revisor #2</b> <a class=\"tocSkip\"></a>\n",
    "\n",
    "Corregido.\n",
    "</div>"
   ]
  },
  {
   "cell_type": "markdown",
   "metadata": {
    "id": "Byr0RfpPVz14"
   },
   "source": [
    "[Volver a Contenidos](#back)"
   ]
  },
  {
   "cell_type": "markdown",
   "metadata": {
    "id": "ykKQ0N65_Zcv"
   },
   "source": [
    "# Conclusiones <a id='end'></a>"
   ]
  },
  {
   "cell_type": "markdown",
   "metadata": {
    "id": "tjUwbHb3_Zcv"
   },
   "source": [
    "Hemos probado las siguientes tres hipótesis:\n",
    "\n",
    "1. La actividad de los usuarios difiere dependiendo del día de la semana y de las distintas ciudades. \n",
    "2. Los lunes por la mañana los residentes de Springfield y Shelbyville escuchan géneros distintos. Lo mismo ocurre con los viernes por la noche.\n",
    "3. Los oyentes de Springfield y Shelbyville tienen distintas preferencias. En ambas ciudades, Springfield y Shelbyville, se prefiere el pop.\n",
    "\n",
    "Tras analizar los datos, concluimos:\n",
    "\n",
    "1. La actividad del usuario en Springfield y Shelbyville depende del día de la semana aunque las ciudades varían de diferentes formas. \n",
    "\n",
    "La primera hipótesis ha sido aceptada completamente.\n",
    "\n",
    "2. Las preferencias musicales no varían significativamente en el transcurso de la semana en Springfield y Shelbyville. Podemos observar pequeñas diferencias en el orden los lunes, pero:\n",
    "* En Springfield y Shelbyville la gente lo que más escucha es la música pop.\n",
    "\n",
    "Así que no podemos aceptar esta hipótesis. También debemos tener en cuenta que el resultado podría haber sido diferente si no fuera por los valores ausentes.\n",
    "\n",
    "3. Resulta que las preferencias musicales de los usuarios de Springfield y Shelbyville son bastante parecidas.\n",
    "\n",
    "La tercera hipótesis es rechazada. Si hay alguna diferencia en las preferencias no se puede observar en los datos.\n",
    "\n",
    "### Nota \n",
    "En los proyectos reales, la investigación supone el estudio de hipótesis estadísticas que es más preciso y cuantitativo. También ten en cuenta que no siempre podemos sacar conclusiones sobre una ciudad entera basándonos en datos de una sola fuente.\n",
    "\n",
    "Analizarás el estudio de hipótesis en el sprint de análisis estadístico de datos."
   ]
  },
  {
   "cell_type": "markdown",
   "metadata": {},
   "source": [
    "<div class=\"alert alert-block alert-danger\">\n",
    "\n",
    "# Comentarios generales\n",
    "\n",
    "Buen trabajo, Darius. Has cumplido con gran parte de los requerimientos empleando métodos propios de pandas y también del lenguaje python. Es necesario que trabajemos en algunos puntos que quedaron pendientes, corregir otros y complementar algunos que están incompletos. Te he dejado algunos comentarios a lo largo del proyecto para que lo lleves a cabo.\n",
    "\n",
    "Si tienes alguna pregunta, no dudes en consultar a tus tutores.\n",
    "    \n",
    "¡Sigue así, vas por muy buen camino!\n",
    "</div>"
   ]
  },
  {
   "cell_type": "markdown",
   "metadata": {},
   "source": [
    "<div class=\"alert alert-block alert-success\">\n",
    "\n",
    "# Comentarios generales #2\n",
    "\n",
    "¡Buen trabajo, Darius! Has corregido todo lo sugerido y has concluido tu primer proyecto. ¡Felicitaciones!\n",
    "    \n",
    "    \n",
    "    \n",
    "¡Vamos por el número 2!\n",
    "</div>"
   ]
  },
  {
   "cell_type": "markdown",
   "metadata": {
    "id": "Ju4AHDSgV1FE"
   },
   "source": [
    "[Volver a Contenidos](#back)"
   ]
  }
 ],
 "metadata": {
  "ExecuteTimeLog": [
   {
    "duration": 599,
    "start_time": "2022-04-02T16:58:11.585Z"
   },
   {
    "duration": 197,
    "start_time": "2022-04-02T17:03:25.776Z"
   },
   {
    "duration": 12,
    "start_time": "2022-04-02T17:03:45.741Z"
   },
   {
    "duration": 41,
    "start_time": "2022-04-02T17:06:30.477Z"
   },
   {
    "duration": 10,
    "start_time": "2022-04-02T17:11:52.988Z"
   },
   {
    "duration": 19,
    "start_time": "2022-04-02T17:12:43.371Z"
   },
   {
    "duration": 16,
    "start_time": "2022-04-02T17:33:24.140Z"
   },
   {
    "duration": 5,
    "start_time": "2022-04-02T17:33:35.211Z"
   },
   {
    "duration": 16,
    "start_time": "2022-04-02T17:34:35.882Z"
   },
   {
    "duration": 16,
    "start_time": "2022-04-02T17:34:39.985Z"
   },
   {
    "duration": 5,
    "start_time": "2022-04-02T17:34:44.459Z"
   },
   {
    "duration": 13,
    "start_time": "2022-04-02T17:35:12.074Z"
   },
   {
    "duration": 6,
    "start_time": "2022-04-02T17:35:15.160Z"
   },
   {
    "duration": 109,
    "start_time": "2022-04-02T17:37:48.729Z"
   },
   {
    "duration": 34,
    "start_time": "2022-04-02T17:37:57.452Z"
   },
   {
    "duration": 62,
    "start_time": "2022-04-02T17:38:38.752Z"
   },
   {
    "duration": 71,
    "start_time": "2022-04-02T17:38:48.696Z"
   },
   {
    "duration": 59,
    "start_time": "2022-04-02T17:38:54.281Z"
   },
   {
    "duration": 59,
    "start_time": "2022-04-02T17:38:59.168Z"
   },
   {
    "duration": 138,
    "start_time": "2022-04-03T02:02:43.197Z"
   },
   {
    "duration": 114,
    "start_time": "2022-04-03T02:03:03.292Z"
   },
   {
    "duration": 108,
    "start_time": "2022-04-03T02:03:19.909Z"
   },
   {
    "duration": 52,
    "start_time": "2022-04-19T21:16:20.394Z"
   },
   {
    "duration": 7,
    "start_time": "2022-04-19T21:17:45.305Z"
   },
   {
    "duration": 7,
    "start_time": "2022-04-19T21:17:57.912Z"
   },
   {
    "duration": 7,
    "start_time": "2022-04-19T21:19:04.472Z"
   },
   {
    "duration": 6,
    "start_time": "2022-04-19T21:19:42.670Z"
   },
   {
    "duration": 7,
    "start_time": "2022-04-19T21:19:50.271Z"
   },
   {
    "duration": 7,
    "start_time": "2022-04-19T21:20:51.640Z"
   },
   {
    "duration": 519,
    "start_time": "2022-04-19T21:21:11.718Z"
   },
   {
    "duration": 136,
    "start_time": "2022-04-19T21:21:14.598Z"
   },
   {
    "duration": 2,
    "start_time": "2022-04-19T21:21:37.230Z"
   },
   {
    "duration": 165,
    "start_time": "2022-04-19T21:21:37.234Z"
   },
   {
    "duration": 9,
    "start_time": "2022-04-19T21:21:37.401Z"
   },
   {
    "duration": 43,
    "start_time": "2022-04-19T21:21:37.411Z"
   },
   {
    "duration": 8,
    "start_time": "2022-04-19T21:21:37.457Z"
   },
   {
    "duration": 15,
    "start_time": "2022-04-19T21:21:37.466Z"
   },
   {
    "duration": 8,
    "start_time": "2022-04-19T21:21:37.483Z"
   },
   {
    "duration": 54,
    "start_time": "2022-04-19T21:21:37.493Z"
   },
   {
    "duration": 14,
    "start_time": "2022-04-19T21:21:40.719Z"
   },
   {
    "duration": 31,
    "start_time": "2022-04-19T21:22:25.640Z"
   },
   {
    "duration": 24,
    "start_time": "2022-04-19T21:22:36.463Z"
   },
   {
    "duration": 14,
    "start_time": "2022-04-19T21:24:48.334Z"
   },
   {
    "duration": 16,
    "start_time": "2022-04-19T21:25:14.135Z"
   },
   {
    "duration": 71,
    "start_time": "2022-04-19T21:29:52.941Z"
   },
   {
    "duration": 72,
    "start_time": "2022-04-19T21:33:11.539Z"
   },
   {
    "duration": 51,
    "start_time": "2022-04-19T21:33:27.371Z"
   },
   {
    "duration": 129,
    "start_time": "2022-04-21T19:05:35.138Z"
   },
   {
    "duration": 72,
    "start_time": "2022-04-21T19:05:50.395Z"
   },
   {
    "duration": 14,
    "start_time": "2022-04-21T19:06:17.428Z"
   },
   {
    "duration": 9,
    "start_time": "2022-04-21T19:06:34.979Z"
   },
   {
    "duration": 540,
    "start_time": "2022-04-21T19:06:43.818Z"
   },
   {
    "duration": 201,
    "start_time": "2022-04-21T19:06:44.361Z"
   },
   {
    "duration": 11,
    "start_time": "2022-04-21T19:06:44.564Z"
   },
   {
    "duration": 58,
    "start_time": "2022-04-21T19:06:44.578Z"
   },
   {
    "duration": 13,
    "start_time": "2022-04-21T19:06:44.638Z"
   },
   {
    "duration": 25,
    "start_time": "2022-04-21T19:06:44.653Z"
   },
   {
    "duration": 20,
    "start_time": "2022-04-21T19:06:44.680Z"
   },
   {
    "duration": 82,
    "start_time": "2022-04-21T19:06:44.702Z"
   },
   {
    "duration": 38,
    "start_time": "2022-04-21T19:06:44.786Z"
   },
   {
    "duration": 36,
    "start_time": "2022-04-21T19:06:44.828Z"
   },
   {
    "duration": 119,
    "start_time": "2022-04-21T19:06:44.867Z"
   },
   {
    "duration": 122,
    "start_time": "2022-04-21T19:06:44.989Z"
   },
   {
    "duration": 99,
    "start_time": "2022-04-21T19:06:45.113Z"
   },
   {
    "duration": 15,
    "start_time": "2022-04-21T19:06:45.214Z"
   },
   {
    "duration": 45,
    "start_time": "2022-04-21T19:07:08.364Z"
   },
   {
    "duration": 10,
    "start_time": "2022-04-21T19:07:20.291Z"
   },
   {
    "duration": 59,
    "start_time": "2022-04-21T19:07:48.900Z"
   },
   {
    "duration": 53,
    "start_time": "2022-04-21T19:07:58.063Z"
   },
   {
    "duration": 126,
    "start_time": "2022-04-21T19:25:58.838Z"
   },
   {
    "duration": 130,
    "start_time": "2022-04-21T19:35:20.866Z"
   },
   {
    "duration": 131,
    "start_time": "2022-04-21T20:06:15.663Z"
   },
   {
    "duration": 48,
    "start_time": "2022-04-21T20:06:27.628Z"
   },
   {
    "duration": 39,
    "start_time": "2022-04-21T22:08:46.398Z"
   },
   {
    "duration": 37,
    "start_time": "2022-04-21T22:08:56.309Z"
   },
   {
    "duration": 52,
    "start_time": "2022-04-21T22:09:19.653Z"
   },
   {
    "duration": 46,
    "start_time": "2022-04-22T01:21:17.232Z"
   },
   {
    "duration": 15,
    "start_time": "2022-04-22T01:23:13.166Z"
   },
   {
    "duration": 187,
    "start_time": "2022-04-22T01:25:00.638Z"
   },
   {
    "duration": 14,
    "start_time": "2022-04-22T01:25:10.213Z"
   },
   {
    "duration": 507,
    "start_time": "2022-04-22T01:25:44.286Z"
   },
   {
    "duration": 10,
    "start_time": "2022-04-22T01:26:26.892Z"
   },
   {
    "duration": 15,
    "start_time": "2022-04-22T01:26:37.908Z"
   },
   {
    "duration": 523,
    "start_time": "2022-04-22T01:26:47.820Z"
   },
   {
    "duration": 15,
    "start_time": "2022-04-22T01:26:55.196Z"
   },
   {
    "duration": 45,
    "start_time": "2022-04-22T01:28:58.379Z"
   },
   {
    "duration": 15,
    "start_time": "2022-04-22T01:29:57.643Z"
   },
   {
    "duration": 12,
    "start_time": "2022-04-22T01:30:07.979Z"
   },
   {
    "duration": 45,
    "start_time": "2022-04-22T01:31:11.682Z"
   },
   {
    "duration": 5,
    "start_time": "2022-04-22T01:32:02.523Z"
   },
   {
    "duration": 15,
    "start_time": "2022-04-22T01:32:09.338Z"
   },
   {
    "duration": 53,
    "start_time": "2022-04-26T13:04:35.140Z"
   },
   {
    "duration": 382,
    "start_time": "2022-04-26T13:04:45.471Z"
   },
   {
    "duration": 502,
    "start_time": "2022-04-26T13:04:45.856Z"
   },
   {
    "duration": 9,
    "start_time": "2022-04-26T13:04:46.359Z"
   },
   {
    "duration": 38,
    "start_time": "2022-04-26T13:04:46.371Z"
   },
   {
    "duration": 9,
    "start_time": "2022-04-26T13:04:46.411Z"
   },
   {
    "duration": 26,
    "start_time": "2022-04-26T13:04:46.422Z"
   },
   {
    "duration": 11,
    "start_time": "2022-04-26T13:04:46.450Z"
   },
   {
    "duration": 55,
    "start_time": "2022-04-26T13:04:46.463Z"
   },
   {
    "duration": 19,
    "start_time": "2022-04-26T13:04:46.520Z"
   },
   {
    "duration": 27,
    "start_time": "2022-04-26T13:04:46.542Z"
   },
   {
    "duration": 84,
    "start_time": "2022-04-26T13:04:46.570Z"
   },
   {
    "duration": 78,
    "start_time": "2022-04-26T13:04:46.656Z"
   },
   {
    "duration": 63,
    "start_time": "2022-04-26T13:04:46.735Z"
   },
   {
    "duration": 58,
    "start_time": "2022-04-26T13:04:46.800Z"
   },
   {
    "duration": 6,
    "start_time": "2022-04-26T13:04:46.860Z"
   },
   {
    "duration": 36,
    "start_time": "2022-04-26T13:04:46.867Z"
   },
   {
    "duration": 54,
    "start_time": "2022-04-26T13:04:46.905Z"
   },
   {
    "duration": 34,
    "start_time": "2022-04-26T13:04:46.961Z"
   },
   {
    "duration": 12,
    "start_time": "2022-04-26T13:04:46.997Z"
   },
   {
    "duration": 3,
    "start_time": "2022-04-26T13:04:47.033Z"
   },
   {
    "duration": 35,
    "start_time": "2022-04-26T13:04:47.038Z"
   },
   {
    "duration": 7,
    "start_time": "2022-04-26T13:04:47.074Z"
   },
   {
    "duration": 16,
    "start_time": "2022-04-26T13:04:47.082Z"
   },
   {
    "duration": 12,
    "start_time": "2022-04-26T13:04:47.100Z"
   },
   {
    "duration": 10,
    "start_time": "2022-04-26T13:04:47.113Z"
   },
   {
    "duration": 5,
    "start_time": "2022-04-26T13:04:47.125Z"
   },
   {
    "duration": 11,
    "start_time": "2022-04-26T13:04:47.132Z"
   },
   {
    "duration": 18,
    "start_time": "2022-04-26T13:04:47.146Z"
   },
   {
    "duration": 15,
    "start_time": "2022-04-26T13:04:47.166Z"
   },
   {
    "duration": 4,
    "start_time": "2022-04-26T13:04:48.231Z"
   },
   {
    "duration": 17,
    "start_time": "2022-04-26T13:04:50.490Z"
   },
   {
    "duration": 12,
    "start_time": "2022-04-26T13:04:52.888Z"
   },
   {
    "duration": 18,
    "start_time": "2022-04-26T13:04:53.449Z"
   },
   {
    "duration": 13,
    "start_time": "2022-04-26T13:04:54.196Z"
   },
   {
    "duration": 352,
    "start_time": "2022-04-30T16:58:31.064Z"
   },
   {
    "duration": 137,
    "start_time": "2022-04-30T16:58:31.418Z"
   },
   {
    "duration": 8,
    "start_time": "2022-04-30T16:58:31.556Z"
   },
   {
    "duration": 29,
    "start_time": "2022-04-30T16:58:31.566Z"
   },
   {
    "duration": 17,
    "start_time": "2022-04-30T16:58:31.597Z"
   },
   {
    "duration": 12,
    "start_time": "2022-04-30T16:58:36.511Z"
   },
   {
    "duration": 3,
    "start_time": "2022-04-30T16:58:41.270Z"
   },
   {
    "duration": 278,
    "start_time": "2022-04-30T17:01:04.549Z"
   },
   {
    "duration": 124,
    "start_time": "2022-04-30T17:02:05.478Z"
   },
   {
    "duration": 183,
    "start_time": "2022-04-30T17:13:03.202Z"
   },
   {
    "duration": 239,
    "start_time": "2022-04-30T17:18:56.689Z"
   },
   {
    "duration": 178,
    "start_time": "2022-04-30T17:20:52.488Z"
   },
   {
    "duration": 214,
    "start_time": "2022-04-30T17:21:00.214Z"
   },
   {
    "duration": 46,
    "start_time": "2022-05-02T23:03:39.605Z"
   },
   {
    "duration": 378,
    "start_time": "2022-05-02T23:03:47.774Z"
   },
   {
    "duration": 170,
    "start_time": "2022-05-02T23:03:48.154Z"
   },
   {
    "duration": 8,
    "start_time": "2022-05-02T23:03:48.326Z"
   },
   {
    "duration": 32,
    "start_time": "2022-05-02T23:03:48.335Z"
   },
   {
    "duration": 7,
    "start_time": "2022-05-02T23:03:48.368Z"
   },
   {
    "duration": 12,
    "start_time": "2022-05-02T23:03:48.377Z"
   },
   {
    "duration": 4,
    "start_time": "2022-05-02T23:03:48.391Z"
   },
   {
    "duration": 61,
    "start_time": "2022-05-02T23:03:48.397Z"
   },
   {
    "duration": 16,
    "start_time": "2022-05-02T23:03:48.460Z"
   },
   {
    "duration": 23,
    "start_time": "2022-05-02T23:03:48.479Z"
   },
   {
    "duration": 79,
    "start_time": "2022-05-02T23:03:48.503Z"
   },
   {
    "duration": 75,
    "start_time": "2022-05-02T23:03:48.584Z"
   },
   {
    "duration": 50,
    "start_time": "2022-05-02T23:03:48.661Z"
   },
   {
    "duration": 52,
    "start_time": "2022-05-02T23:03:48.713Z"
   },
   {
    "duration": 3,
    "start_time": "2022-05-02T23:03:48.766Z"
   },
   {
    "duration": 14,
    "start_time": "2022-05-02T23:03:48.771Z"
   },
   {
    "duration": 35,
    "start_time": "2022-05-02T23:03:48.787Z"
   },
   {
    "duration": 47,
    "start_time": "2022-05-02T23:03:48.823Z"
   },
   {
    "duration": 10,
    "start_time": "2022-05-02T23:03:51.028Z"
   },
   {
    "duration": 504,
    "start_time": "2022-05-07T21:45:07.672Z"
   },
   {
    "duration": 187,
    "start_time": "2022-05-07T21:45:08.179Z"
   },
   {
    "duration": 11,
    "start_time": "2022-05-07T21:45:08.369Z"
   },
   {
    "duration": 42,
    "start_time": "2022-05-07T21:45:08.394Z"
   },
   {
    "duration": 13,
    "start_time": "2022-05-07T21:45:08.438Z"
   },
   {
    "duration": 41,
    "start_time": "2022-05-07T21:45:08.453Z"
   },
   {
    "duration": 6,
    "start_time": "2022-05-07T21:45:08.496Z"
   },
   {
    "duration": 92,
    "start_time": "2022-05-07T21:45:08.504Z"
   },
   {
    "duration": 24,
    "start_time": "2022-05-07T21:45:08.598Z"
   },
   {
    "duration": 33,
    "start_time": "2022-05-07T21:45:08.625Z"
   },
   {
    "duration": 116,
    "start_time": "2022-05-07T21:45:08.659Z"
   },
   {
    "duration": 123,
    "start_time": "2022-05-07T21:45:08.777Z"
   },
   {
    "duration": 80,
    "start_time": "2022-05-07T21:45:08.902Z"
   },
   {
    "duration": 52,
    "start_time": "2022-05-07T21:45:08.992Z"
   },
   {
    "duration": 4,
    "start_time": "2022-05-07T21:45:09.046Z"
   },
   {
    "duration": 43,
    "start_time": "2022-05-07T21:45:09.052Z"
   },
   {
    "duration": 48,
    "start_time": "2022-05-07T21:45:09.098Z"
   },
   {
    "duration": 67,
    "start_time": "2022-05-07T21:45:09.149Z"
   },
   {
    "duration": 16,
    "start_time": "2022-05-07T21:45:09.219Z"
   },
   {
    "duration": 88,
    "start_time": "2022-05-07T21:45:11.289Z"
   },
   {
    "duration": 11,
    "start_time": "2022-05-07T21:45:35.963Z"
   },
   {
    "duration": 8,
    "start_time": "2022-06-14T18:05:48.851Z"
   },
   {
    "duration": 374,
    "start_time": "2022-06-14T18:05:57.504Z"
   },
   {
    "duration": 234,
    "start_time": "2022-06-14T18:05:57.880Z"
   },
   {
    "duration": 7,
    "start_time": "2022-06-14T18:05:58.116Z"
   },
   {
    "duration": 40,
    "start_time": "2022-06-14T18:05:58.124Z"
   },
   {
    "duration": 7,
    "start_time": "2022-06-14T18:05:58.166Z"
   },
   {
    "duration": 15,
    "start_time": "2022-06-14T18:05:58.174Z"
   },
   {
    "duration": 8,
    "start_time": "2022-06-14T18:05:58.190Z"
   },
   {
    "duration": 51,
    "start_time": "2022-06-14T18:05:58.199Z"
   },
   {
    "duration": 16,
    "start_time": "2022-06-14T18:05:58.251Z"
   },
   {
    "duration": 22,
    "start_time": "2022-06-14T18:05:58.270Z"
   },
   {
    "duration": 81,
    "start_time": "2022-06-14T18:05:58.293Z"
   },
   {
    "duration": 79,
    "start_time": "2022-06-14T18:05:58.375Z"
   },
   {
    "duration": 49,
    "start_time": "2022-06-14T18:05:58.456Z"
   },
   {
    "duration": 55,
    "start_time": "2022-06-14T18:05:58.507Z"
   },
   {
    "duration": 3,
    "start_time": "2022-06-14T18:05:58.563Z"
   },
   {
    "duration": 17,
    "start_time": "2022-06-14T18:05:58.567Z"
   },
   {
    "duration": 55,
    "start_time": "2022-06-14T18:05:58.586Z"
   },
   {
    "duration": 32,
    "start_time": "2022-06-14T18:05:58.643Z"
   },
   {
    "duration": 11,
    "start_time": "2022-06-14T18:05:58.677Z"
   },
   {
    "duration": 4,
    "start_time": "2022-06-14T18:05:58.690Z"
   },
   {
    "duration": 4,
    "start_time": "2022-06-14T18:06:00.601Z"
   },
   {
    "duration": 444,
    "start_time": "2022-06-14T18:07:42.718Z"
   },
   {
    "duration": 205,
    "start_time": "2022-06-14T18:07:43.166Z"
   },
   {
    "duration": 8,
    "start_time": "2022-06-14T18:07:43.373Z"
   },
   {
    "duration": 29,
    "start_time": "2022-06-14T18:07:43.383Z"
   },
   {
    "duration": 16,
    "start_time": "2022-06-14T18:07:43.414Z"
   },
   {
    "duration": 22,
    "start_time": "2022-06-14T18:07:43.432Z"
   },
   {
    "duration": 16,
    "start_time": "2022-06-14T18:07:43.456Z"
   },
   {
    "duration": 69,
    "start_time": "2022-06-14T18:07:43.474Z"
   },
   {
    "duration": 22,
    "start_time": "2022-06-14T18:07:43.545Z"
   },
   {
    "duration": 39,
    "start_time": "2022-06-14T18:07:43.569Z"
   },
   {
    "duration": 102,
    "start_time": "2022-06-14T18:07:43.610Z"
   },
   {
    "duration": 83,
    "start_time": "2022-06-14T18:07:43.713Z"
   },
   {
    "duration": 88,
    "start_time": "2022-06-14T18:07:43.798Z"
   },
   {
    "duration": 58,
    "start_time": "2022-06-14T18:07:43.887Z"
   },
   {
    "duration": 7,
    "start_time": "2022-06-14T18:07:43.949Z"
   },
   {
    "duration": 31,
    "start_time": "2022-06-14T18:07:43.959Z"
   },
   {
    "duration": 85,
    "start_time": "2022-06-14T18:07:43.992Z"
   },
   {
    "duration": 27,
    "start_time": "2022-06-14T18:07:44.079Z"
   },
   {
    "duration": 9,
    "start_time": "2022-06-14T18:07:44.107Z"
   },
   {
    "duration": 4,
    "start_time": "2022-06-14T18:07:51.883Z"
   },
   {
    "duration": 16,
    "start_time": "2022-06-14T18:07:57.204Z"
   },
   {
    "duration": 14,
    "start_time": "2022-06-14T18:08:15.074Z"
   },
   {
    "duration": 14,
    "start_time": "2022-06-14T18:08:43.683Z"
   },
   {
    "duration": 13,
    "start_time": "2022-06-14T18:08:48.751Z"
   },
   {
    "duration": 18,
    "start_time": "2022-06-14T18:09:02.117Z"
   },
   {
    "duration": 13,
    "start_time": "2022-06-14T18:09:17.083Z"
   },
   {
    "duration": 10,
    "start_time": "2022-06-14T18:17:44.799Z"
   },
   {
    "duration": 421,
    "start_time": "2022-06-14T18:21:21.723Z"
   },
   {
    "duration": 161,
    "start_time": "2022-06-14T18:21:22.150Z"
   },
   {
    "duration": 8,
    "start_time": "2022-06-14T18:21:22.312Z"
   },
   {
    "duration": 52,
    "start_time": "2022-06-14T18:21:22.328Z"
   },
   {
    "duration": 7,
    "start_time": "2022-06-14T18:21:22.383Z"
   },
   {
    "duration": 14,
    "start_time": "2022-06-14T18:21:22.391Z"
   },
   {
    "duration": 9,
    "start_time": "2022-06-14T18:21:22.406Z"
   },
   {
    "duration": 60,
    "start_time": "2022-06-14T18:21:22.416Z"
   },
   {
    "duration": 17,
    "start_time": "2022-06-14T18:21:22.478Z"
   },
   {
    "duration": 30,
    "start_time": "2022-06-14T18:21:22.498Z"
   },
   {
    "duration": 78,
    "start_time": "2022-06-14T18:21:22.532Z"
   },
   {
    "duration": 78,
    "start_time": "2022-06-14T18:21:22.611Z"
   },
   {
    "duration": 59,
    "start_time": "2022-06-14T18:21:22.690Z"
   },
   {
    "duration": 39,
    "start_time": "2022-06-14T18:21:22.751Z"
   },
   {
    "duration": 10,
    "start_time": "2022-06-14T18:21:22.792Z"
   },
   {
    "duration": 15,
    "start_time": "2022-06-14T18:21:22.804Z"
   },
   {
    "duration": 54,
    "start_time": "2022-06-14T18:21:22.821Z"
   },
   {
    "duration": 31,
    "start_time": "2022-06-14T18:21:22.877Z"
   },
   {
    "duration": 39,
    "start_time": "2022-06-14T18:21:22.909Z"
   },
   {
    "duration": 19,
    "start_time": "2022-06-14T18:21:22.951Z"
   },
   {
    "duration": 17,
    "start_time": "2022-06-14T18:21:22.971Z"
   },
   {
    "duration": 12,
    "start_time": "2022-06-14T18:21:22.990Z"
   },
   {
    "duration": 15,
    "start_time": "2022-06-14T18:21:23.004Z"
   },
   {
    "duration": 34,
    "start_time": "2022-06-14T18:21:23.021Z"
   },
   {
    "duration": 24,
    "start_time": "2022-06-14T18:21:23.057Z"
   },
   {
    "duration": 13,
    "start_time": "2022-06-14T18:21:23.083Z"
   },
   {
    "duration": 11,
    "start_time": "2022-06-14T18:21:23.097Z"
   },
   {
    "duration": 11,
    "start_time": "2022-06-14T18:21:23.111Z"
   },
   {
    "duration": 12,
    "start_time": "2022-06-14T18:21:23.128Z"
   },
   {
    "duration": 25,
    "start_time": "2022-06-14T18:21:23.143Z"
   },
   {
    "duration": 23,
    "start_time": "2022-06-14T18:21:23.170Z"
   },
   {
    "duration": 12,
    "start_time": "2022-06-14T18:21:23.194Z"
   },
   {
    "duration": 16,
    "start_time": "2022-06-14T18:21:23.207Z"
   },
   {
    "duration": 28,
    "start_time": "2022-06-14T18:21:23.225Z"
   },
   {
    "duration": 9,
    "start_time": "2022-06-14T18:21:31.180Z"
   },
   {
    "duration": 8,
    "start_time": "2022-06-14T18:22:30.211Z"
   },
   {
    "duration": 9,
    "start_time": "2022-06-14T18:22:35.468Z"
   },
   {
    "duration": 5,
    "start_time": "2022-06-14T18:22:47.703Z"
   },
   {
    "duration": 63,
    "start_time": "2022-06-14T18:43:14.113Z"
   },
   {
    "duration": 375,
    "start_time": "2022-06-14T18:44:19.095Z"
   },
   {
    "duration": 159,
    "start_time": "2022-06-14T18:44:19.471Z"
   },
   {
    "duration": 12,
    "start_time": "2022-06-14T18:44:19.631Z"
   },
   {
    "duration": 31,
    "start_time": "2022-06-14T18:44:19.644Z"
   },
   {
    "duration": 7,
    "start_time": "2022-06-14T18:44:19.678Z"
   },
   {
    "duration": 16,
    "start_time": "2022-06-14T18:44:19.686Z"
   },
   {
    "duration": 6,
    "start_time": "2022-06-14T18:44:19.704Z"
   },
   {
    "duration": 58,
    "start_time": "2022-06-14T18:44:19.711Z"
   },
   {
    "duration": 16,
    "start_time": "2022-06-14T18:44:19.771Z"
   },
   {
    "duration": 33,
    "start_time": "2022-06-14T18:44:19.788Z"
   },
   {
    "duration": 65,
    "start_time": "2022-06-14T18:44:19.823Z"
   },
   {
    "duration": 85,
    "start_time": "2022-06-14T18:44:19.889Z"
   },
   {
    "duration": 63,
    "start_time": "2022-06-14T18:44:19.976Z"
   },
   {
    "duration": 36,
    "start_time": "2022-06-14T18:44:20.042Z"
   },
   {
    "duration": 2,
    "start_time": "2022-06-14T18:44:20.080Z"
   },
   {
    "duration": 24,
    "start_time": "2022-06-14T18:44:20.084Z"
   },
   {
    "duration": 47,
    "start_time": "2022-06-14T18:44:20.109Z"
   },
   {
    "duration": 27,
    "start_time": "2022-06-14T18:44:20.158Z"
   },
   {
    "duration": 10,
    "start_time": "2022-06-14T18:44:20.187Z"
   },
   {
    "duration": 6,
    "start_time": "2022-06-14T18:44:20.198Z"
   },
   {
    "duration": 72,
    "start_time": "2022-06-14T18:44:20.205Z"
   },
   {
    "duration": 15,
    "start_time": "2022-06-14T18:44:20.278Z"
   },
   {
    "duration": 17,
    "start_time": "2022-06-14T18:44:20.294Z"
   },
   {
    "duration": 16,
    "start_time": "2022-06-14T18:44:20.312Z"
   },
   {
    "duration": 23,
    "start_time": "2022-06-14T18:44:20.329Z"
   },
   {
    "duration": 13,
    "start_time": "2022-06-14T18:44:20.353Z"
   },
   {
    "duration": 12,
    "start_time": "2022-06-14T18:44:20.367Z"
   },
   {
    "duration": 12,
    "start_time": "2022-06-14T18:44:20.381Z"
   },
   {
    "duration": 11,
    "start_time": "2022-06-14T18:44:20.395Z"
   },
   {
    "duration": 29,
    "start_time": "2022-06-14T18:44:20.408Z"
   },
   {
    "duration": 23,
    "start_time": "2022-06-14T18:44:20.439Z"
   },
   {
    "duration": 10,
    "start_time": "2022-06-14T18:44:20.463Z"
   },
   {
    "duration": 15,
    "start_time": "2022-06-14T18:44:20.475Z"
   },
   {
    "duration": 11,
    "start_time": "2022-06-14T18:44:20.491Z"
   },
   {
    "duration": 7,
    "start_time": "2022-06-14T18:44:20.503Z"
   },
   {
    "duration": 18,
    "start_time": "2022-06-14T18:44:20.511Z"
   },
   {
    "duration": 59,
    "start_time": "2022-06-14T18:44:27.240Z"
   },
   {
    "duration": 25,
    "start_time": "2022-06-14T18:49:35.195Z"
   },
   {
    "duration": 18,
    "start_time": "2022-06-14T18:49:55.991Z"
   },
   {
    "duration": 3,
    "start_time": "2022-06-14T18:51:59.290Z"
   },
   {
    "duration": 6,
    "start_time": "2022-06-14T18:52:09.404Z"
   },
   {
    "duration": 4,
    "start_time": "2022-06-14T18:52:13.443Z"
   }
  ],
  "colab": {
   "collapsed_sections": [
    "E0vqbgi9ay0H",
    "VUC88oWjTJw2",
    "atZAxtq4_Zcu"
   ],
   "name": "EmptyFinalProject.ipynb\"",
   "provenance": []
  },
  "kernelspec": {
   "display_name": "Python 3 (ipykernel)",
   "language": "python",
   "name": "python3"
  },
  "language_info": {
   "codemirror_mode": {
    "name": "ipython",
    "version": 3
   },
   "file_extension": ".py",
   "mimetype": "text/x-python",
   "name": "python",
   "nbconvert_exporter": "python",
   "pygments_lexer": "ipython3",
   "version": "3.9.5"
  },
  "toc": {
   "base_numbering": 1,
   "nav_menu": {},
   "number_sections": true,
   "sideBar": true,
   "skip_h1_title": true,
   "title_cell": "Table of Contents",
   "title_sidebar": "Contents",
   "toc_cell": false,
   "toc_position": {},
   "toc_section_display": true,
   "toc_window_display": false
  }
 },
 "nbformat": 4,
 "nbformat_minor": 4
}
